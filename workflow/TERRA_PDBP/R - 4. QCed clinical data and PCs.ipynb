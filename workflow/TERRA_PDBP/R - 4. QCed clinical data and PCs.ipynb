{
 "cells": [
  {
   "cell_type": "markdown",
   "metadata": {},
   "source": [
    "# Getting the final file to use in our analysis\n",
    "\n",
    "In this section we are going to access the clinical data needed for our analysis, and join it with the imputed outcome variables as well as the PCs"
   ]
  },
  {
   "cell_type": "markdown",
   "metadata": {},
   "source": [
    "# Setup"
   ]
  },
  {
   "cell_type": "markdown",
   "metadata": {},
   "source": [
    "## Loading libraries"
   ]
  },
  {
   "cell_type": "code",
   "execution_count": 1,
   "metadata": {},
   "outputs": [
    {
     "name": "stderr",
     "output_type": "stream",
     "text": [
      "── \u001b[1mAttaching packages\u001b[22m ─────────────────────────────────────── tidyverse 1.3.1 ──\n",
      "\n",
      "\u001b[32m✔\u001b[39m \u001b[34mggplot2\u001b[39m 3.3.5     \u001b[32m✔\u001b[39m \u001b[34mpurrr  \u001b[39m 0.3.4\n",
      "\u001b[32m✔\u001b[39m \u001b[34mtibble \u001b[39m 3.1.4     \u001b[32m✔\u001b[39m \u001b[34mdplyr  \u001b[39m 1.0.7\n",
      "\u001b[32m✔\u001b[39m \u001b[34mtidyr  \u001b[39m 1.1.3     \u001b[32m✔\u001b[39m \u001b[34mstringr\u001b[39m 1.4.0\n",
      "\u001b[32m✔\u001b[39m \u001b[34mreadr  \u001b[39m 2.0.1     \u001b[32m✔\u001b[39m \u001b[34mforcats\u001b[39m 0.5.1\n",
      "\n",
      "── \u001b[1mConflicts\u001b[22m ────────────────────────────────────────── tidyverse_conflicts() ──\n",
      "\u001b[31m✖\u001b[39m \u001b[34mdplyr\u001b[39m::\u001b[32mfilter()\u001b[39m masks \u001b[34mstats\u001b[39m::filter()\n",
      "\u001b[31m✖\u001b[39m \u001b[34mdplyr\u001b[39m::\u001b[32mlag()\u001b[39m    masks \u001b[34mstats\u001b[39m::lag()\n",
      "\n"
     ]
    }
   ],
   "source": [
    "    library(tidyverse)  # Data wrangling packages.\n",
    "library(reticulate) # R Interface to Python\n",
    "\n",
    "# Expect these to be installed by default\n",
    "library(Ronaldo)    # Leonardo R package.\n",
    "library(bigrquery)  # BigQuery R client.\n",
    "library(ggplot2)\n",
    "library(repr)"
   ]
  },
  {
   "cell_type": "markdown",
   "metadata": {},
   "source": [
    "## Set up utilities"
   ]
  },
  {
   "cell_type": "code",
   "execution_count": 2,
   "metadata": {},
   "outputs": [],
   "source": [
    "# Utility routine for printing a shell command before executing it\n",
    "shell_do <- function(command) {\n",
    "    print(paste('Executing: ', command))\n",
    "    system(command, intern = TRUE)\n",
    "}\n",
    "\n",
    "# Utility routines for reading files from Google Cloud Storage\n",
    "gcs_read_file <- function(path) {\n",
    "    pipe(str_glue('gsutil -u {BILLING_PROJECT_ID} cat {path}'))\n",
    "}\n",
    "gcs_read_csv <- function(path, sep=',') {\n",
    "    readr::read_csv(gcs_read_file(path))\n",
    "}\n",
    "\n",
    "# Utility routine for display a message and a link\n",
    "display_html_link <- function(description, link_text, url) {\n",
    "    html = str_glue('\n",
    "    <p>\n",
    "    </p>\n",
    "    <p>\n",
    "    {description}\n",
    "    <a target=_blank href=\"{url}\">{link_text}</a>.\n",
    "    </p>\n",
    "    ')\n",
    "\n",
    "    IRdisplay::display_html(html)\n",
    "}\n",
    "\n",
    "# Utility routine for displaying a message and link to Cloud Console\n",
    "link_to_cloud_console_gcs <- function(description, link_text, gcs_path) {\n",
    "    url_path <- file.path('https://console.cloud.google.com/storage/browser',\n",
    "                          str_replace(gcs_path, \"gs://\",\"\"))\n",
    "    url_query <- str_glue('userProject={URLencode(BILLING_PROJECT_ID)}')\n",
    "\n",
    "    url = str_glue('{url_path}?{url_query}')\n",
    "\n",
    "    display_html_link(description, link_text, url)\n",
    "}\n"
   ]
  },
  {
   "cell_type": "markdown",
   "metadata": {},
   "source": [
    "# Setup notebook globals"
   ]
  },
  {
   "cell_type": "code",
   "execution_count": 3,
   "metadata": {},
   "outputs": [
    {
     "name": "stdout",
     "output_type": "stream",
     "text": [
      "[1] \"gs://fc-cd759889-2702-4f72-a832-0be756073417\"\n",
      "[1] \"Executing:  gsutil -u terra-ed19e231 ls gs://fc-cd759889-2702-4f72-a832-0be756073417\"\n",
      "[1] \"gs://fc-cd759889-2702-4f72-a832-0be756073417/files/\"    \n",
      "[2] \"gs://fc-cd759889-2702-4f72-a832-0be756073417/notebooks/\"\n",
      "[1] \"Executing:  gsutil -u terra-ed19e231 ls gs://fc-cd759889-2702-4f72-a832-0be756073417/notebooks\"\n",
      " [1] \"gs://fc-cd759889-2702-4f72-a832-0be756073417/notebooks/PD_MDSUPDRSIII.csv\"                             \n",
      " [2] \"gs://fc-cd759889-2702-4f72-a832-0be756073417/notebooks/Py - 1. Exploration_Filtering.ipynb\"            \n",
      " [3] \"gs://fc-cd759889-2702-4f72-a832-0be756073417/notebooks/Py - 2. data_QC.ipynb\"                          \n",
      " [4] \"gs://fc-cd759889-2702-4f72-a832-0be756073417/notebooks/Py - data_QC.ipynb\"                             \n",
      " [5] \"gs://fc-cd759889-2702-4f72-a832-0be756073417/notebooks/R - 0. Start here.ipynb\"                        \n",
      " [6] \"gs://fc-cd759889-2702-4f72-a832-0be756073417/notebooks/R - 1. MDS_UPDRSIII_imputation.ipynb\"           \n",
      " [7] \"gs://fc-cd759889-2702-4f72-a832-0be756073417/notebooks/R - 2. data_QC.ipynb\"                           \n",
      " [8] \"gs://fc-cd759889-2702-4f72-a832-0be756073417/notebooks/R - 3. QCed clinical data and PCs.ipynb\"        \n",
      " [9] \"gs://fc-cd759889-2702-4f72-a832-0be756073417/notebooks/amp_v2.5_formatted_normalized_allchr-merge.pgen\"\n",
      "[10] \"gs://fc-cd759889-2702-4f72-a832-0be756073417/notebooks/amp_v2.5_formatted_normalized_allchr-merge.psam\"\n",
      "[11] \"gs://fc-cd759889-2702-4f72-a832-0be756073417/notebooks/amp_v2.5_formatted_normalized_allchr-merge.pvar\"\n",
      "[12] \"gs://fc-cd759889-2702-4f72-a832-0be756073417/notebooks/data_QC.ipynb\"                                  \n",
      "[1] \"Executing:  gsutil -u terra-ed19e231 ls gs://fc-cd759889-2702-4f72-a832-0be756073417/files\"\n",
      " [1] \"gs://fc-cd759889-2702-4f72-a832-0be756073417/files/HapMapIII_CGRCh38.bed\"                                                                                                                                                       \n",
      " [2] \"gs://fc-cd759889-2702-4f72-a832-0be756073417/files/HapMapIII_CGRCh38.bim\"                                                                                                                                                       \n",
      " [3] \"gs://fc-cd759889-2702-4f72-a832-0be756073417/files/HapMapIII_CGRCh38.fam\"                                                                                                                                                       \n",
      " [4] \"gs://fc-cd759889-2702-4f72-a832-0be756073417/files/HapMapIII_CGRCh38.log\"                                                                                                                                                       \n",
      " [5] \"gs://fc-cd759889-2702-4f72-a832-0be756073417/files/HapMapIII_CGRCh38.snps\"                                                                                                                                                      \n",
      " [6] \"gs://fc-cd759889-2702-4f72-a832-0be756073417/files/PCA.eigenvec\"                                                                                                                                                                \n",
      " [7] \"gs://fc-cd759889-2702-4f72-a832-0be756073417/files/PCA_outliersAncestry_4SD.txt\"                                                                                                                                                \n",
      " [8] \"gs://fc-cd759889-2702-4f72-a832-0be756073417/files/PDBP_QCed.PCA.eigenvec\"                                                                                                                                                      \n",
      " [9] \"gs://fc-cd759889-2702-4f72-a832-0be756073417/files/PDBP_QCed_plink1.PCA.eigenvec\"                                                                                                                                               \n",
      "[10] \"gs://fc-cd759889-2702-4f72-a832-0be756073417/files/PDBP_final.rds\"                                                                                                                                                              \n",
      "[11] \"gs://fc-cd759889-2702-4f72-a832-0be756073417/files/PD_MDSUPDRSIII.csv\"                                                                                                                                                          \n",
      "[12] \"gs://fc-cd759889-2702-4f72-a832-0be756073417/files/PD_MDSUPDRSIII_allVisits.csv\"                                                                                                                                                \n",
      "[13] \"gs://fc-cd759889-2702-4f72-a832-0be756073417/files/SNPsDF_recodeA.raw\"                                                                                                                                                          \n",
      "[14] \"gs://fc-cd759889-2702-4f72-a832-0be756073417/files/SNPsDF_recodeA_plink1.raw\"                                                                                                                                                   \n",
      "[15] \"gs://fc-cd759889-2702-4f72-a832-0be756073417/files/amppd_PDBPsamples.geno_005.maf_0.01.king_0.1.sexUpdated.het_2SD.callrate_0.015.ancestry_4SD.het_2SD.callrate_0.015.geno_0.05.maf_0.01.hwe_1E10.autosome.noMultiAlleles.bed\"  \n",
      "[16] \"gs://fc-cd759889-2702-4f72-a832-0be756073417/files/amppd_PDBPsamples.geno_005.maf_0.01.king_0.1.sexUpdated.het_2SD.callrate_0.015.ancestry_4SD.het_2SD.callrate_0.015.geno_0.05.maf_0.01.hwe_1E10.autosome.noMultiAlleles.bim\"  \n",
      "[17] \"gs://fc-cd759889-2702-4f72-a832-0be756073417/files/amppd_PDBPsamples.geno_005.maf_0.01.king_0.1.sexUpdated.het_2SD.callrate_0.015.ancestry_4SD.het_2SD.callrate_0.015.geno_0.05.maf_0.01.hwe_1E10.autosome.noMultiAlleles.fam\"  \n",
      "[18] \"gs://fc-cd759889-2702-4f72-a832-0be756073417/files/amppd_PDBPsamples.geno_005.maf_0.01.king_0.1.sexUpdated.het_2SD.callrate_0.015.ancestry_4SD.het_2SD.callrate_0.015.geno_0.05.maf_0.01.hwe_1E10.autosome.noMultiAlleles.frq\"  \n",
      "[19] \"gs://fc-cd759889-2702-4f72-a832-0be756073417/files/amppd_PDBPsamples.geno_005.maf_0.01.king_0.1.sexUpdated.het_2SD.callrate_0.015.ancestry_4SD.het_2SD.callrate_0.015.geno_0.05.maf_0.01.hwe_1E10.autosome.noMultiAlleles.log\"  \n",
      "[20] \"gs://fc-cd759889-2702-4f72-a832-0be756073417/files/amppd_PDBPsamples.geno_005.maf_0.01.king_0.1.sexUpdated.het_2SD.callrate_0.015.ancestry_4SD.het_2SD.callrate_0.015.geno_0.05.maf_0.01.hwe_1E10.autosome.noMultiAlleles.nosex\"\n",
      "[21] \"gs://fc-cd759889-2702-4f72-a832-0be756073417/files/from_rs_to_chrBPrefALT_hg38build.txt\"                                                                                                                                        \n",
      "[22] \"gs://fc-cd759889-2702-4f72-a832-0be756073417/files/populations_hapmap.txt\"                                                                                                                                                      \n"
     ]
    }
   ],
   "source": [
    "BILLING_PROJECT_ID <- Sys.getenv('GOOGLE_PROJECT')\n",
    "WORKSPACE_NAMESPACE <- Sys.getenv('WORKSPACE_NAMESPACE')\n",
    "WORKSPACE_NAME <- Sys.getenv('WORKSPACE_NAME')\n",
    "\n",
    "fapi <- import(\"firecloud.api\")\n",
    "WORKSPACE_ATTRIBUTES <- fapi$get_workspace(WORKSPACE_NAMESPACE, WORKSPACE_NAME)$json()$workspace$attributes\n",
    "\n",
    "# Setting the path to my workspace\n",
    "PATH_MYWORKSPACE = 'gs://fc-cd759889-2702-4f72-a832-0be756073417'\n",
    "print(PATH_MYWORKSPACE)\n",
    "\n",
    "print(shell_do(str_glue('gsutil -u {BILLING_PROJECT_ID} ls {PATH_MYWORKSPACE}')))\n",
    "print(shell_do(str_glue('gsutil -u {BILLING_PROJECT_ID} ls {PATH_MYWORKSPACE}/notebooks')))\n",
    "print(shell_do(str_glue('gsutil -u {BILLING_PROJECT_ID} ls {PATH_MYWORKSPACE}/files')))\n",
    "\n",
    "\n",
    "## Getting the path to AMP-PD clinical data\n",
    "\n",
    "# GS_RELEASE_PATH = 'gs://amp-pd-data/releases/2021_v2-5release_0510'\n",
    "# GS_CLINICAL_RELEASE_PATH = f'{GS_RELEASE_PATH}/clinical/'\n",
    "GS_TIER1_RELEASE_PATH <- 'gs://amp-pd-data/releases/2021_v2-5release_0510'\n",
    "GS_CLINICAL_RELEASE_PATH <- str_glue('{GS_TIER1_RELEASE_PATH}/clinical')"
   ]
  },
  {
   "cell_type": "code",
   "execution_count": 4,
   "metadata": {},
   "outputs": [
    {
     "name": "stdout",
     "output_type": "stream",
     "text": [
      "[1] \"Executing:  gsutil -u terra-ed19e231 ls gs://amp-pd-data/releases/2021_v2-5release_0510\"\n"
     ]
    },
    {
     "data": {
      "text/html": [
       "<style>\n",
       ".list-inline {list-style: none; margin:0; padding: 0}\n",
       ".list-inline>li {display: inline-block}\n",
       ".list-inline>li:not(:last-child)::after {content: \"\\00b7\"; padding: 0 .5ex}\n",
       "</style>\n",
       "<ol class=list-inline><li>'gs://amp-pd-data/releases/2021_v2-5release_0510/amp_pd_case_control.csv'</li><li>'gs://amp-pd-data/releases/2021_v2-5release_0510/amp_pd_participant_wgs_duplicates.csv'</li><li>'gs://amp-pd-data/releases/2021_v2-5release_0510/amp_pd_participants.csv'</li><li>'gs://amp-pd-data/releases/2021_v2-5release_0510/rna_sample_inventory.csv'</li><li>'gs://amp-pd-data/releases/2021_v2-5release_0510/wgs_gatk_joint_genotyping_samples.csv'</li><li>'gs://amp-pd-data/releases/2021_v2-5release_0510/wgs_sample_inventory.csv'</li><li>'gs://amp-pd-data/releases/2021_v2-5release_0510/clinical/'</li></ol>\n"
      ],
      "text/latex": [
       "\\begin{enumerate*}\n",
       "\\item 'gs://amp-pd-data/releases/2021\\_v2-5release\\_0510/amp\\_pd\\_case\\_control.csv'\n",
       "\\item 'gs://amp-pd-data/releases/2021\\_v2-5release\\_0510/amp\\_pd\\_participant\\_wgs\\_duplicates.csv'\n",
       "\\item 'gs://amp-pd-data/releases/2021\\_v2-5release\\_0510/amp\\_pd\\_participants.csv'\n",
       "\\item 'gs://amp-pd-data/releases/2021\\_v2-5release\\_0510/rna\\_sample\\_inventory.csv'\n",
       "\\item 'gs://amp-pd-data/releases/2021\\_v2-5release\\_0510/wgs\\_gatk\\_joint\\_genotyping\\_samples.csv'\n",
       "\\item 'gs://amp-pd-data/releases/2021\\_v2-5release\\_0510/wgs\\_sample\\_inventory.csv'\n",
       "\\item 'gs://amp-pd-data/releases/2021\\_v2-5release\\_0510/clinical/'\n",
       "\\end{enumerate*}\n"
      ],
      "text/markdown": [
       "1. 'gs://amp-pd-data/releases/2021_v2-5release_0510/amp_pd_case_control.csv'\n",
       "2. 'gs://amp-pd-data/releases/2021_v2-5release_0510/amp_pd_participant_wgs_duplicates.csv'\n",
       "3. 'gs://amp-pd-data/releases/2021_v2-5release_0510/amp_pd_participants.csv'\n",
       "4. 'gs://amp-pd-data/releases/2021_v2-5release_0510/rna_sample_inventory.csv'\n",
       "5. 'gs://amp-pd-data/releases/2021_v2-5release_0510/wgs_gatk_joint_genotyping_samples.csv'\n",
       "6. 'gs://amp-pd-data/releases/2021_v2-5release_0510/wgs_sample_inventory.csv'\n",
       "7. 'gs://amp-pd-data/releases/2021_v2-5release_0510/clinical/'\n",
       "\n",
       "\n"
      ],
      "text/plain": [
       "[1] \"gs://amp-pd-data/releases/2021_v2-5release_0510/amp_pd_case_control.csv\"              \n",
       "[2] \"gs://amp-pd-data/releases/2021_v2-5release_0510/amp_pd_participant_wgs_duplicates.csv\"\n",
       "[3] \"gs://amp-pd-data/releases/2021_v2-5release_0510/amp_pd_participants.csv\"              \n",
       "[4] \"gs://amp-pd-data/releases/2021_v2-5release_0510/rna_sample_inventory.csv\"             \n",
       "[5] \"gs://amp-pd-data/releases/2021_v2-5release_0510/wgs_gatk_joint_genotyping_samples.csv\"\n",
       "[6] \"gs://amp-pd-data/releases/2021_v2-5release_0510/wgs_sample_inventory.csv\"             \n",
       "[7] \"gs://amp-pd-data/releases/2021_v2-5release_0510/clinical/\"                            "
      ]
     },
     "metadata": {},
     "output_type": "display_data"
    }
   ],
   "source": [
    "shell_do(str_glue('gsutil -u {BILLING_PROJECT_ID} ls {GS_TIER1_RELEASE_PATH}'))"
   ]
  },
  {
   "cell_type": "code",
   "execution_count": 5,
   "metadata": {},
   "outputs": [
    {
     "name": "stdout",
     "output_type": "stream",
     "text": [
      "[1] \"Executing:  gsutil -u terra-ed19e231 ls gs://amp-pd-data/releases/2021_v2-5release_0510/clinical\"\n"
     ]
    },
    {
     "data": {
      "text/html": [
       "<style>\n",
       ".list-inline {list-style: none; margin:0; padding: 0}\n",
       ".list-inline>li {display: inline-block}\n",
       ".list-inline>li:not(:last-child)::after {content: \"\\00b7\"; padding: 0 .5ex}\n",
       "</style>\n",
       "<ol class=list-inline><li>'gs://amp-pd-data/releases/2021_v2-5release_0510/clinical/Biospecimen_analyses_CSF_abeta_tau_ptau.csv'</li><li>'gs://amp-pd-data/releases/2021_v2-5release_0510/clinical/Biospecimen_analyses_CSF_abeta_tau_ptau_dictionary.csv'</li><li>'gs://amp-pd-data/releases/2021_v2-5release_0510/clinical/Biospecimen_analyses_CSF_beta_glucocerebrosidase.csv'</li><li>'gs://amp-pd-data/releases/2021_v2-5release_0510/clinical/Biospecimen_analyses_CSF_beta_glucocerebrosidase_dictionary.csv'</li><li>'gs://amp-pd-data/releases/2021_v2-5release_0510/clinical/Biospecimen_analyses_SomaLogic_plasma.csv'</li><li>'gs://amp-pd-data/releases/2021_v2-5release_0510/clinical/Biospecimen_analyses_SomaLogic_plasma_dictionary.csv'</li><li>'gs://amp-pd-data/releases/2021_v2-5release_0510/clinical/Biospecimen_analyses_other.csv'</li><li>'gs://amp-pd-data/releases/2021_v2-5release_0510/clinical/Biospecimen_analyses_other_dictionary.csv'</li><li>'gs://amp-pd-data/releases/2021_v2-5release_0510/clinical/Caffeine_history.csv'</li><li>'gs://amp-pd-data/releases/2021_v2-5release_0510/clinical/Caffeine_history_dictionary.csv'</li><li>'gs://amp-pd-data/releases/2021_v2-5release_0510/clinical/DTI.csv'</li><li>'gs://amp-pd-data/releases/2021_v2-5release_0510/clinical/DTI_dictionary.csv'</li><li>'gs://amp-pd-data/releases/2021_v2-5release_0510/clinical/DaTSCAN_SBR.csv'</li><li>'gs://amp-pd-data/releases/2021_v2-5release_0510/clinical/DaTSCAN_SBR_dictionary.csv'</li><li>'gs://amp-pd-data/releases/2021_v2-5release_0510/clinical/DaTSCAN_visual_interpretation.csv'</li><li>'gs://amp-pd-data/releases/2021_v2-5release_0510/clinical/DaTSCAN_visual_interpretation_dictionary.csv'</li><li>'gs://amp-pd-data/releases/2021_v2-5release_0510/clinical/Demographics.csv'</li><li>'gs://amp-pd-data/releases/2021_v2-5release_0510/clinical/Demographics_dictionary.csv'</li><li>'gs://amp-pd-data/releases/2021_v2-5release_0510/clinical/Enrollment.csv'</li><li>'gs://amp-pd-data/releases/2021_v2-5release_0510/clinical/Enrollment_dictionary.csv'</li><li>'gs://amp-pd-data/releases/2021_v2-5release_0510/clinical/Epworth_Sleepiness_Scale.csv'</li><li>'gs://amp-pd-data/releases/2021_v2-5release_0510/clinical/Epworth_Sleepiness_Scale_dictionary.csv'</li><li>'gs://amp-pd-data/releases/2021_v2-5release_0510/clinical/Family_History_PD.csv'</li><li>'gs://amp-pd-data/releases/2021_v2-5release_0510/clinical/Family_History_PD_dictionary.csv'</li><li>'gs://amp-pd-data/releases/2021_v2-5release_0510/clinical/LBD_Cohort_Clinical_Data.csv'</li><li>'gs://amp-pd-data/releases/2021_v2-5release_0510/clinical/LBD_Cohort_Clinical_Data_dictionary.csv'</li><li>'gs://amp-pd-data/releases/2021_v2-5release_0510/clinical/LBD_Cohort_Path_Data.csv'</li><li>'gs://amp-pd-data/releases/2021_v2-5release_0510/clinical/LBD_Cohort_Path_Data_dictionary.csv'</li><li>'gs://amp-pd-data/releases/2021_v2-5release_0510/clinical/MDS_UPDRS_Part_I.csv'</li><li>'gs://amp-pd-data/releases/2021_v2-5release_0510/clinical/MDS_UPDRS_Part_II.csv'</li><li>'gs://amp-pd-data/releases/2021_v2-5release_0510/clinical/MDS_UPDRS_Part_III.csv'</li><li>'gs://amp-pd-data/releases/2021_v2-5release_0510/clinical/MDS_UPDRS_Part_III_dictionary.csv'</li><li>'gs://amp-pd-data/releases/2021_v2-5release_0510/clinical/MDS_UPDRS_Part_II_dictionary.csv'</li><li>'gs://amp-pd-data/releases/2021_v2-5release_0510/clinical/MDS_UPDRS_Part_IV.csv'</li><li>'gs://amp-pd-data/releases/2021_v2-5release_0510/clinical/MDS_UPDRS_Part_IV_dictionary.csv'</li><li>'gs://amp-pd-data/releases/2021_v2-5release_0510/clinical/MDS_UPDRS_Part_I_dictionary.csv'</li><li>'gs://amp-pd-data/releases/2021_v2-5release_0510/clinical/MMSE.csv'</li><li>'gs://amp-pd-data/releases/2021_v2-5release_0510/clinical/MMSE_dictionary.csv'</li><li>'gs://amp-pd-data/releases/2021_v2-5release_0510/clinical/MOCA.csv'</li><li>'gs://amp-pd-data/releases/2021_v2-5release_0510/clinical/MOCA_dictionary.csv'</li><li>'gs://amp-pd-data/releases/2021_v2-5release_0510/clinical/MRI.csv'</li><li>'gs://amp-pd-data/releases/2021_v2-5release_0510/clinical/MRI_dictionary.csv'</li><li>'gs://amp-pd-data/releases/2021_v2-5release_0510/clinical/Modified_Schwab___England_ADL.csv'</li><li>'gs://amp-pd-data/releases/2021_v2-5release_0510/clinical/Modified_Schwab___England_ADL_dictionary.csv'</li><li>'gs://amp-pd-data/releases/2021_v2-5release_0510/clinical/PDQ_39.csv'</li><li>'gs://amp-pd-data/releases/2021_v2-5release_0510/clinical/PDQ_39_dictionary.csv'</li><li>'gs://amp-pd-data/releases/2021_v2-5release_0510/clinical/PD_Medical_History.csv'</li><li>'gs://amp-pd-data/releases/2021_v2-5release_0510/clinical/PD_Medical_History_dictionary.csv'</li><li>'gs://amp-pd-data/releases/2021_v2-5release_0510/clinical/REM_Sleep_Behavior_Disorder_Questionnaire_Mayo.csv'</li><li>'gs://amp-pd-data/releases/2021_v2-5release_0510/clinical/REM_Sleep_Behavior_Disorder_Questionnaire_Mayo_dictionary.csv'</li><li>'gs://amp-pd-data/releases/2021_v2-5release_0510/clinical/REM_Sleep_Behavior_Disorder_Questionnaire_Stiasny_Kolster.csv'</li><li>'gs://amp-pd-data/releases/2021_v2-5release_0510/clinical/REM_Sleep_Behavior_Disorder_Questionnaire_Stiasny_Kolster_dictionary.csv'</li><li>'gs://amp-pd-data/releases/2021_v2-5release_0510/clinical/Smoking_and_alcohol_history.csv'</li><li>'gs://amp-pd-data/releases/2021_v2-5release_0510/clinical/Smoking_and_alcohol_history_dictionary.csv'</li><li>'gs://amp-pd-data/releases/2021_v2-5release_0510/clinical/UPDRS.csv'</li><li>'gs://amp-pd-data/releases/2021_v2-5release_0510/clinical/UPDRS_dictionary.csv'</li><li>'gs://amp-pd-data/releases/2021_v2-5release_0510/clinical/UPSIT.csv'</li><li>'gs://amp-pd-data/releases/2021_v2-5release_0510/clinical/UPSIT_dictionary.csv'</li></ol>\n"
      ],
      "text/latex": [
       "\\begin{enumerate*}\n",
       "\\item 'gs://amp-pd-data/releases/2021\\_v2-5release\\_0510/clinical/Biospecimen\\_analyses\\_CSF\\_abeta\\_tau\\_ptau.csv'\n",
       "\\item 'gs://amp-pd-data/releases/2021\\_v2-5release\\_0510/clinical/Biospecimen\\_analyses\\_CSF\\_abeta\\_tau\\_ptau\\_dictionary.csv'\n",
       "\\item 'gs://amp-pd-data/releases/2021\\_v2-5release\\_0510/clinical/Biospecimen\\_analyses\\_CSF\\_beta\\_glucocerebrosidase.csv'\n",
       "\\item 'gs://amp-pd-data/releases/2021\\_v2-5release\\_0510/clinical/Biospecimen\\_analyses\\_CSF\\_beta\\_glucocerebrosidase\\_dictionary.csv'\n",
       "\\item 'gs://amp-pd-data/releases/2021\\_v2-5release\\_0510/clinical/Biospecimen\\_analyses\\_SomaLogic\\_plasma.csv'\n",
       "\\item 'gs://amp-pd-data/releases/2021\\_v2-5release\\_0510/clinical/Biospecimen\\_analyses\\_SomaLogic\\_plasma\\_dictionary.csv'\n",
       "\\item 'gs://amp-pd-data/releases/2021\\_v2-5release\\_0510/clinical/Biospecimen\\_analyses\\_other.csv'\n",
       "\\item 'gs://amp-pd-data/releases/2021\\_v2-5release\\_0510/clinical/Biospecimen\\_analyses\\_other\\_dictionary.csv'\n",
       "\\item 'gs://amp-pd-data/releases/2021\\_v2-5release\\_0510/clinical/Caffeine\\_history.csv'\n",
       "\\item 'gs://amp-pd-data/releases/2021\\_v2-5release\\_0510/clinical/Caffeine\\_history\\_dictionary.csv'\n",
       "\\item 'gs://amp-pd-data/releases/2021\\_v2-5release\\_0510/clinical/DTI.csv'\n",
       "\\item 'gs://amp-pd-data/releases/2021\\_v2-5release\\_0510/clinical/DTI\\_dictionary.csv'\n",
       "\\item 'gs://amp-pd-data/releases/2021\\_v2-5release\\_0510/clinical/DaTSCAN\\_SBR.csv'\n",
       "\\item 'gs://amp-pd-data/releases/2021\\_v2-5release\\_0510/clinical/DaTSCAN\\_SBR\\_dictionary.csv'\n",
       "\\item 'gs://amp-pd-data/releases/2021\\_v2-5release\\_0510/clinical/DaTSCAN\\_visual\\_interpretation.csv'\n",
       "\\item 'gs://amp-pd-data/releases/2021\\_v2-5release\\_0510/clinical/DaTSCAN\\_visual\\_interpretation\\_dictionary.csv'\n",
       "\\item 'gs://amp-pd-data/releases/2021\\_v2-5release\\_0510/clinical/Demographics.csv'\n",
       "\\item 'gs://amp-pd-data/releases/2021\\_v2-5release\\_0510/clinical/Demographics\\_dictionary.csv'\n",
       "\\item 'gs://amp-pd-data/releases/2021\\_v2-5release\\_0510/clinical/Enrollment.csv'\n",
       "\\item 'gs://amp-pd-data/releases/2021\\_v2-5release\\_0510/clinical/Enrollment\\_dictionary.csv'\n",
       "\\item 'gs://amp-pd-data/releases/2021\\_v2-5release\\_0510/clinical/Epworth\\_Sleepiness\\_Scale.csv'\n",
       "\\item 'gs://amp-pd-data/releases/2021\\_v2-5release\\_0510/clinical/Epworth\\_Sleepiness\\_Scale\\_dictionary.csv'\n",
       "\\item 'gs://amp-pd-data/releases/2021\\_v2-5release\\_0510/clinical/Family\\_History\\_PD.csv'\n",
       "\\item 'gs://amp-pd-data/releases/2021\\_v2-5release\\_0510/clinical/Family\\_History\\_PD\\_dictionary.csv'\n",
       "\\item 'gs://amp-pd-data/releases/2021\\_v2-5release\\_0510/clinical/LBD\\_Cohort\\_Clinical\\_Data.csv'\n",
       "\\item 'gs://amp-pd-data/releases/2021\\_v2-5release\\_0510/clinical/LBD\\_Cohort\\_Clinical\\_Data\\_dictionary.csv'\n",
       "\\item 'gs://amp-pd-data/releases/2021\\_v2-5release\\_0510/clinical/LBD\\_Cohort\\_Path\\_Data.csv'\n",
       "\\item 'gs://amp-pd-data/releases/2021\\_v2-5release\\_0510/clinical/LBD\\_Cohort\\_Path\\_Data\\_dictionary.csv'\n",
       "\\item 'gs://amp-pd-data/releases/2021\\_v2-5release\\_0510/clinical/MDS\\_UPDRS\\_Part\\_I.csv'\n",
       "\\item 'gs://amp-pd-data/releases/2021\\_v2-5release\\_0510/clinical/MDS\\_UPDRS\\_Part\\_II.csv'\n",
       "\\item 'gs://amp-pd-data/releases/2021\\_v2-5release\\_0510/clinical/MDS\\_UPDRS\\_Part\\_III.csv'\n",
       "\\item 'gs://amp-pd-data/releases/2021\\_v2-5release\\_0510/clinical/MDS\\_UPDRS\\_Part\\_III\\_dictionary.csv'\n",
       "\\item 'gs://amp-pd-data/releases/2021\\_v2-5release\\_0510/clinical/MDS\\_UPDRS\\_Part\\_II\\_dictionary.csv'\n",
       "\\item 'gs://amp-pd-data/releases/2021\\_v2-5release\\_0510/clinical/MDS\\_UPDRS\\_Part\\_IV.csv'\n",
       "\\item 'gs://amp-pd-data/releases/2021\\_v2-5release\\_0510/clinical/MDS\\_UPDRS\\_Part\\_IV\\_dictionary.csv'\n",
       "\\item 'gs://amp-pd-data/releases/2021\\_v2-5release\\_0510/clinical/MDS\\_UPDRS\\_Part\\_I\\_dictionary.csv'\n",
       "\\item 'gs://amp-pd-data/releases/2021\\_v2-5release\\_0510/clinical/MMSE.csv'\n",
       "\\item 'gs://amp-pd-data/releases/2021\\_v2-5release\\_0510/clinical/MMSE\\_dictionary.csv'\n",
       "\\item 'gs://amp-pd-data/releases/2021\\_v2-5release\\_0510/clinical/MOCA.csv'\n",
       "\\item 'gs://amp-pd-data/releases/2021\\_v2-5release\\_0510/clinical/MOCA\\_dictionary.csv'\n",
       "\\item 'gs://amp-pd-data/releases/2021\\_v2-5release\\_0510/clinical/MRI.csv'\n",
       "\\item 'gs://amp-pd-data/releases/2021\\_v2-5release\\_0510/clinical/MRI\\_dictionary.csv'\n",
       "\\item 'gs://amp-pd-data/releases/2021\\_v2-5release\\_0510/clinical/Modified\\_Schwab\\_\\_\\_England\\_ADL.csv'\n",
       "\\item 'gs://amp-pd-data/releases/2021\\_v2-5release\\_0510/clinical/Modified\\_Schwab\\_\\_\\_England\\_ADL\\_dictionary.csv'\n",
       "\\item 'gs://amp-pd-data/releases/2021\\_v2-5release\\_0510/clinical/PDQ\\_39.csv'\n",
       "\\item 'gs://amp-pd-data/releases/2021\\_v2-5release\\_0510/clinical/PDQ\\_39\\_dictionary.csv'\n",
       "\\item 'gs://amp-pd-data/releases/2021\\_v2-5release\\_0510/clinical/PD\\_Medical\\_History.csv'\n",
       "\\item 'gs://amp-pd-data/releases/2021\\_v2-5release\\_0510/clinical/PD\\_Medical\\_History\\_dictionary.csv'\n",
       "\\item 'gs://amp-pd-data/releases/2021\\_v2-5release\\_0510/clinical/REM\\_Sleep\\_Behavior\\_Disorder\\_Questionnaire\\_Mayo.csv'\n",
       "\\item 'gs://amp-pd-data/releases/2021\\_v2-5release\\_0510/clinical/REM\\_Sleep\\_Behavior\\_Disorder\\_Questionnaire\\_Mayo\\_dictionary.csv'\n",
       "\\item 'gs://amp-pd-data/releases/2021\\_v2-5release\\_0510/clinical/REM\\_Sleep\\_Behavior\\_Disorder\\_Questionnaire\\_Stiasny\\_Kolster.csv'\n",
       "\\item 'gs://amp-pd-data/releases/2021\\_v2-5release\\_0510/clinical/REM\\_Sleep\\_Behavior\\_Disorder\\_Questionnaire\\_Stiasny\\_Kolster\\_dictionary.csv'\n",
       "\\item 'gs://amp-pd-data/releases/2021\\_v2-5release\\_0510/clinical/Smoking\\_and\\_alcohol\\_history.csv'\n",
       "\\item 'gs://amp-pd-data/releases/2021\\_v2-5release\\_0510/clinical/Smoking\\_and\\_alcohol\\_history\\_dictionary.csv'\n",
       "\\item 'gs://amp-pd-data/releases/2021\\_v2-5release\\_0510/clinical/UPDRS.csv'\n",
       "\\item 'gs://amp-pd-data/releases/2021\\_v2-5release\\_0510/clinical/UPDRS\\_dictionary.csv'\n",
       "\\item 'gs://amp-pd-data/releases/2021\\_v2-5release\\_0510/clinical/UPSIT.csv'\n",
       "\\item 'gs://amp-pd-data/releases/2021\\_v2-5release\\_0510/clinical/UPSIT\\_dictionary.csv'\n",
       "\\end{enumerate*}\n"
      ],
      "text/markdown": [
       "1. 'gs://amp-pd-data/releases/2021_v2-5release_0510/clinical/Biospecimen_analyses_CSF_abeta_tau_ptau.csv'\n",
       "2. 'gs://amp-pd-data/releases/2021_v2-5release_0510/clinical/Biospecimen_analyses_CSF_abeta_tau_ptau_dictionary.csv'\n",
       "3. 'gs://amp-pd-data/releases/2021_v2-5release_0510/clinical/Biospecimen_analyses_CSF_beta_glucocerebrosidase.csv'\n",
       "4. 'gs://amp-pd-data/releases/2021_v2-5release_0510/clinical/Biospecimen_analyses_CSF_beta_glucocerebrosidase_dictionary.csv'\n",
       "5. 'gs://amp-pd-data/releases/2021_v2-5release_0510/clinical/Biospecimen_analyses_SomaLogic_plasma.csv'\n",
       "6. 'gs://amp-pd-data/releases/2021_v2-5release_0510/clinical/Biospecimen_analyses_SomaLogic_plasma_dictionary.csv'\n",
       "7. 'gs://amp-pd-data/releases/2021_v2-5release_0510/clinical/Biospecimen_analyses_other.csv'\n",
       "8. 'gs://amp-pd-data/releases/2021_v2-5release_0510/clinical/Biospecimen_analyses_other_dictionary.csv'\n",
       "9. 'gs://amp-pd-data/releases/2021_v2-5release_0510/clinical/Caffeine_history.csv'\n",
       "10. 'gs://amp-pd-data/releases/2021_v2-5release_0510/clinical/Caffeine_history_dictionary.csv'\n",
       "11. 'gs://amp-pd-data/releases/2021_v2-5release_0510/clinical/DTI.csv'\n",
       "12. 'gs://amp-pd-data/releases/2021_v2-5release_0510/clinical/DTI_dictionary.csv'\n",
       "13. 'gs://amp-pd-data/releases/2021_v2-5release_0510/clinical/DaTSCAN_SBR.csv'\n",
       "14. 'gs://amp-pd-data/releases/2021_v2-5release_0510/clinical/DaTSCAN_SBR_dictionary.csv'\n",
       "15. 'gs://amp-pd-data/releases/2021_v2-5release_0510/clinical/DaTSCAN_visual_interpretation.csv'\n",
       "16. 'gs://amp-pd-data/releases/2021_v2-5release_0510/clinical/DaTSCAN_visual_interpretation_dictionary.csv'\n",
       "17. 'gs://amp-pd-data/releases/2021_v2-5release_0510/clinical/Demographics.csv'\n",
       "18. 'gs://amp-pd-data/releases/2021_v2-5release_0510/clinical/Demographics_dictionary.csv'\n",
       "19. 'gs://amp-pd-data/releases/2021_v2-5release_0510/clinical/Enrollment.csv'\n",
       "20. 'gs://amp-pd-data/releases/2021_v2-5release_0510/clinical/Enrollment_dictionary.csv'\n",
       "21. 'gs://amp-pd-data/releases/2021_v2-5release_0510/clinical/Epworth_Sleepiness_Scale.csv'\n",
       "22. 'gs://amp-pd-data/releases/2021_v2-5release_0510/clinical/Epworth_Sleepiness_Scale_dictionary.csv'\n",
       "23. 'gs://amp-pd-data/releases/2021_v2-5release_0510/clinical/Family_History_PD.csv'\n",
       "24. 'gs://amp-pd-data/releases/2021_v2-5release_0510/clinical/Family_History_PD_dictionary.csv'\n",
       "25. 'gs://amp-pd-data/releases/2021_v2-5release_0510/clinical/LBD_Cohort_Clinical_Data.csv'\n",
       "26. 'gs://amp-pd-data/releases/2021_v2-5release_0510/clinical/LBD_Cohort_Clinical_Data_dictionary.csv'\n",
       "27. 'gs://amp-pd-data/releases/2021_v2-5release_0510/clinical/LBD_Cohort_Path_Data.csv'\n",
       "28. 'gs://amp-pd-data/releases/2021_v2-5release_0510/clinical/LBD_Cohort_Path_Data_dictionary.csv'\n",
       "29. 'gs://amp-pd-data/releases/2021_v2-5release_0510/clinical/MDS_UPDRS_Part_I.csv'\n",
       "30. 'gs://amp-pd-data/releases/2021_v2-5release_0510/clinical/MDS_UPDRS_Part_II.csv'\n",
       "31. 'gs://amp-pd-data/releases/2021_v2-5release_0510/clinical/MDS_UPDRS_Part_III.csv'\n",
       "32. 'gs://amp-pd-data/releases/2021_v2-5release_0510/clinical/MDS_UPDRS_Part_III_dictionary.csv'\n",
       "33. 'gs://amp-pd-data/releases/2021_v2-5release_0510/clinical/MDS_UPDRS_Part_II_dictionary.csv'\n",
       "34. 'gs://amp-pd-data/releases/2021_v2-5release_0510/clinical/MDS_UPDRS_Part_IV.csv'\n",
       "35. 'gs://amp-pd-data/releases/2021_v2-5release_0510/clinical/MDS_UPDRS_Part_IV_dictionary.csv'\n",
       "36. 'gs://amp-pd-data/releases/2021_v2-5release_0510/clinical/MDS_UPDRS_Part_I_dictionary.csv'\n",
       "37. 'gs://amp-pd-data/releases/2021_v2-5release_0510/clinical/MMSE.csv'\n",
       "38. 'gs://amp-pd-data/releases/2021_v2-5release_0510/clinical/MMSE_dictionary.csv'\n",
       "39. 'gs://amp-pd-data/releases/2021_v2-5release_0510/clinical/MOCA.csv'\n",
       "40. 'gs://amp-pd-data/releases/2021_v2-5release_0510/clinical/MOCA_dictionary.csv'\n",
       "41. 'gs://amp-pd-data/releases/2021_v2-5release_0510/clinical/MRI.csv'\n",
       "42. 'gs://amp-pd-data/releases/2021_v2-5release_0510/clinical/MRI_dictionary.csv'\n",
       "43. 'gs://amp-pd-data/releases/2021_v2-5release_0510/clinical/Modified_Schwab___England_ADL.csv'\n",
       "44. 'gs://amp-pd-data/releases/2021_v2-5release_0510/clinical/Modified_Schwab___England_ADL_dictionary.csv'\n",
       "45. 'gs://amp-pd-data/releases/2021_v2-5release_0510/clinical/PDQ_39.csv'\n",
       "46. 'gs://amp-pd-data/releases/2021_v2-5release_0510/clinical/PDQ_39_dictionary.csv'\n",
       "47. 'gs://amp-pd-data/releases/2021_v2-5release_0510/clinical/PD_Medical_History.csv'\n",
       "48. 'gs://amp-pd-data/releases/2021_v2-5release_0510/clinical/PD_Medical_History_dictionary.csv'\n",
       "49. 'gs://amp-pd-data/releases/2021_v2-5release_0510/clinical/REM_Sleep_Behavior_Disorder_Questionnaire_Mayo.csv'\n",
       "50. 'gs://amp-pd-data/releases/2021_v2-5release_0510/clinical/REM_Sleep_Behavior_Disorder_Questionnaire_Mayo_dictionary.csv'\n",
       "51. 'gs://amp-pd-data/releases/2021_v2-5release_0510/clinical/REM_Sleep_Behavior_Disorder_Questionnaire_Stiasny_Kolster.csv'\n",
       "52. 'gs://amp-pd-data/releases/2021_v2-5release_0510/clinical/REM_Sleep_Behavior_Disorder_Questionnaire_Stiasny_Kolster_dictionary.csv'\n",
       "53. 'gs://amp-pd-data/releases/2021_v2-5release_0510/clinical/Smoking_and_alcohol_history.csv'\n",
       "54. 'gs://amp-pd-data/releases/2021_v2-5release_0510/clinical/Smoking_and_alcohol_history_dictionary.csv'\n",
       "55. 'gs://amp-pd-data/releases/2021_v2-5release_0510/clinical/UPDRS.csv'\n",
       "56. 'gs://amp-pd-data/releases/2021_v2-5release_0510/clinical/UPDRS_dictionary.csv'\n",
       "57. 'gs://amp-pd-data/releases/2021_v2-5release_0510/clinical/UPSIT.csv'\n",
       "58. 'gs://amp-pd-data/releases/2021_v2-5release_0510/clinical/UPSIT_dictionary.csv'\n",
       "\n",
       "\n"
      ],
      "text/plain": [
       " [1] \"gs://amp-pd-data/releases/2021_v2-5release_0510/clinical/Biospecimen_analyses_CSF_abeta_tau_ptau.csv\"                             \n",
       " [2] \"gs://amp-pd-data/releases/2021_v2-5release_0510/clinical/Biospecimen_analyses_CSF_abeta_tau_ptau_dictionary.csv\"                  \n",
       " [3] \"gs://amp-pd-data/releases/2021_v2-5release_0510/clinical/Biospecimen_analyses_CSF_beta_glucocerebrosidase.csv\"                    \n",
       " [4] \"gs://amp-pd-data/releases/2021_v2-5release_0510/clinical/Biospecimen_analyses_CSF_beta_glucocerebrosidase_dictionary.csv\"         \n",
       " [5] \"gs://amp-pd-data/releases/2021_v2-5release_0510/clinical/Biospecimen_analyses_SomaLogic_plasma.csv\"                               \n",
       " [6] \"gs://amp-pd-data/releases/2021_v2-5release_0510/clinical/Biospecimen_analyses_SomaLogic_plasma_dictionary.csv\"                    \n",
       " [7] \"gs://amp-pd-data/releases/2021_v2-5release_0510/clinical/Biospecimen_analyses_other.csv\"                                          \n",
       " [8] \"gs://amp-pd-data/releases/2021_v2-5release_0510/clinical/Biospecimen_analyses_other_dictionary.csv\"                               \n",
       " [9] \"gs://amp-pd-data/releases/2021_v2-5release_0510/clinical/Caffeine_history.csv\"                                                    \n",
       "[10] \"gs://amp-pd-data/releases/2021_v2-5release_0510/clinical/Caffeine_history_dictionary.csv\"                                         \n",
       "[11] \"gs://amp-pd-data/releases/2021_v2-5release_0510/clinical/DTI.csv\"                                                                 \n",
       "[12] \"gs://amp-pd-data/releases/2021_v2-5release_0510/clinical/DTI_dictionary.csv\"                                                      \n",
       "[13] \"gs://amp-pd-data/releases/2021_v2-5release_0510/clinical/DaTSCAN_SBR.csv\"                                                         \n",
       "[14] \"gs://amp-pd-data/releases/2021_v2-5release_0510/clinical/DaTSCAN_SBR_dictionary.csv\"                                              \n",
       "[15] \"gs://amp-pd-data/releases/2021_v2-5release_0510/clinical/DaTSCAN_visual_interpretation.csv\"                                       \n",
       "[16] \"gs://amp-pd-data/releases/2021_v2-5release_0510/clinical/DaTSCAN_visual_interpretation_dictionary.csv\"                            \n",
       "[17] \"gs://amp-pd-data/releases/2021_v2-5release_0510/clinical/Demographics.csv\"                                                        \n",
       "[18] \"gs://amp-pd-data/releases/2021_v2-5release_0510/clinical/Demographics_dictionary.csv\"                                             \n",
       "[19] \"gs://amp-pd-data/releases/2021_v2-5release_0510/clinical/Enrollment.csv\"                                                          \n",
       "[20] \"gs://amp-pd-data/releases/2021_v2-5release_0510/clinical/Enrollment_dictionary.csv\"                                               \n",
       "[21] \"gs://amp-pd-data/releases/2021_v2-5release_0510/clinical/Epworth_Sleepiness_Scale.csv\"                                            \n",
       "[22] \"gs://amp-pd-data/releases/2021_v2-5release_0510/clinical/Epworth_Sleepiness_Scale_dictionary.csv\"                                 \n",
       "[23] \"gs://amp-pd-data/releases/2021_v2-5release_0510/clinical/Family_History_PD.csv\"                                                   \n",
       "[24] \"gs://amp-pd-data/releases/2021_v2-5release_0510/clinical/Family_History_PD_dictionary.csv\"                                        \n",
       "[25] \"gs://amp-pd-data/releases/2021_v2-5release_0510/clinical/LBD_Cohort_Clinical_Data.csv\"                                            \n",
       "[26] \"gs://amp-pd-data/releases/2021_v2-5release_0510/clinical/LBD_Cohort_Clinical_Data_dictionary.csv\"                                 \n",
       "[27] \"gs://amp-pd-data/releases/2021_v2-5release_0510/clinical/LBD_Cohort_Path_Data.csv\"                                                \n",
       "[28] \"gs://amp-pd-data/releases/2021_v2-5release_0510/clinical/LBD_Cohort_Path_Data_dictionary.csv\"                                     \n",
       "[29] \"gs://amp-pd-data/releases/2021_v2-5release_0510/clinical/MDS_UPDRS_Part_I.csv\"                                                    \n",
       "[30] \"gs://amp-pd-data/releases/2021_v2-5release_0510/clinical/MDS_UPDRS_Part_II.csv\"                                                   \n",
       "[31] \"gs://amp-pd-data/releases/2021_v2-5release_0510/clinical/MDS_UPDRS_Part_III.csv\"                                                  \n",
       "[32] \"gs://amp-pd-data/releases/2021_v2-5release_0510/clinical/MDS_UPDRS_Part_III_dictionary.csv\"                                       \n",
       "[33] \"gs://amp-pd-data/releases/2021_v2-5release_0510/clinical/MDS_UPDRS_Part_II_dictionary.csv\"                                        \n",
       "[34] \"gs://amp-pd-data/releases/2021_v2-5release_0510/clinical/MDS_UPDRS_Part_IV.csv\"                                                   \n",
       "[35] \"gs://amp-pd-data/releases/2021_v2-5release_0510/clinical/MDS_UPDRS_Part_IV_dictionary.csv\"                                        \n",
       "[36] \"gs://amp-pd-data/releases/2021_v2-5release_0510/clinical/MDS_UPDRS_Part_I_dictionary.csv\"                                         \n",
       "[37] \"gs://amp-pd-data/releases/2021_v2-5release_0510/clinical/MMSE.csv\"                                                                \n",
       "[38] \"gs://amp-pd-data/releases/2021_v2-5release_0510/clinical/MMSE_dictionary.csv\"                                                     \n",
       "[39] \"gs://amp-pd-data/releases/2021_v2-5release_0510/clinical/MOCA.csv\"                                                                \n",
       "[40] \"gs://amp-pd-data/releases/2021_v2-5release_0510/clinical/MOCA_dictionary.csv\"                                                     \n",
       "[41] \"gs://amp-pd-data/releases/2021_v2-5release_0510/clinical/MRI.csv\"                                                                 \n",
       "[42] \"gs://amp-pd-data/releases/2021_v2-5release_0510/clinical/MRI_dictionary.csv\"                                                      \n",
       "[43] \"gs://amp-pd-data/releases/2021_v2-5release_0510/clinical/Modified_Schwab___England_ADL.csv\"                                       \n",
       "[44] \"gs://amp-pd-data/releases/2021_v2-5release_0510/clinical/Modified_Schwab___England_ADL_dictionary.csv\"                            \n",
       "[45] \"gs://amp-pd-data/releases/2021_v2-5release_0510/clinical/PDQ_39.csv\"                                                              \n",
       "[46] \"gs://amp-pd-data/releases/2021_v2-5release_0510/clinical/PDQ_39_dictionary.csv\"                                                   \n",
       "[47] \"gs://amp-pd-data/releases/2021_v2-5release_0510/clinical/PD_Medical_History.csv\"                                                  \n",
       "[48] \"gs://amp-pd-data/releases/2021_v2-5release_0510/clinical/PD_Medical_History_dictionary.csv\"                                       \n",
       "[49] \"gs://amp-pd-data/releases/2021_v2-5release_0510/clinical/REM_Sleep_Behavior_Disorder_Questionnaire_Mayo.csv\"                      \n",
       "[50] \"gs://amp-pd-data/releases/2021_v2-5release_0510/clinical/REM_Sleep_Behavior_Disorder_Questionnaire_Mayo_dictionary.csv\"           \n",
       "[51] \"gs://amp-pd-data/releases/2021_v2-5release_0510/clinical/REM_Sleep_Behavior_Disorder_Questionnaire_Stiasny_Kolster.csv\"           \n",
       "[52] \"gs://amp-pd-data/releases/2021_v2-5release_0510/clinical/REM_Sleep_Behavior_Disorder_Questionnaire_Stiasny_Kolster_dictionary.csv\"\n",
       "[53] \"gs://amp-pd-data/releases/2021_v2-5release_0510/clinical/Smoking_and_alcohol_history.csv\"                                         \n",
       "[54] \"gs://amp-pd-data/releases/2021_v2-5release_0510/clinical/Smoking_and_alcohol_history_dictionary.csv\"                              \n",
       "[55] \"gs://amp-pd-data/releases/2021_v2-5release_0510/clinical/UPDRS.csv\"                                                               \n",
       "[56] \"gs://amp-pd-data/releases/2021_v2-5release_0510/clinical/UPDRS_dictionary.csv\"                                                    \n",
       "[57] \"gs://amp-pd-data/releases/2021_v2-5release_0510/clinical/UPSIT.csv\"                                                               \n",
       "[58] \"gs://amp-pd-data/releases/2021_v2-5release_0510/clinical/UPSIT_dictionary.csv\"                                                    "
      ]
     },
     "metadata": {},
     "output_type": "display_data"
    }
   ],
   "source": [
    "shell_do(str_glue('gsutil -u {BILLING_PROJECT_ID} ls {GS_TIER1_RELEASE_PATH}/clinical'))"
   ]
  },
  {
   "cell_type": "markdown",
   "metadata": {},
   "source": [
    "# Loading data"
   ]
  },
  {
   "cell_type": "code",
   "execution_count": 14,
   "metadata": {},
   "outputs": [
    {
     "name": "stderr",
     "output_type": "stream",
     "text": [
      "\u001b[1m\u001b[1mRows: \u001b[1m\u001b[22m\u001b[34m\u001b[34m11226\u001b[34m\u001b[39m \u001b[1m\u001b[1mColumns: \u001b[1m\u001b[22m\u001b[34m\u001b[34m9\u001b[34m\u001b[39m\n",
      "\n",
      "\u001b[36m──\u001b[39m \u001b[1m\u001b[1mColumn specification\u001b[1m\u001b[22m \u001b[36m────────────────────────────────────────────────────────\u001b[39m\n",
      "\u001b[1mDelimiter:\u001b[22m \",\"\n",
      "\u001b[31mchr\u001b[39m (7): participant_id, GUID, visit_name, sex, ethnicity, race, education_l...\n",
      "\u001b[32mdbl\u001b[39m (2): visit_month, age_at_baseline\n",
      "\n",
      "\n",
      "\u001b[36mℹ\u001b[39m Use \u001b[30m\u001b[47m\u001b[30m\u001b[47m`spec()`\u001b[47m\u001b[30m\u001b[49m\u001b[39m to retrieve the full column specification for this data.\n",
      "\u001b[36mℹ\u001b[39m Specify the column types or set \u001b[30m\u001b[47m\u001b[30m\u001b[47m`show_col_types = FALSE`\u001b[47m\u001b[30m\u001b[49m\u001b[39m to quiet this message.\n",
      "\n",
      "\u001b[1m\u001b[1mRows: \u001b[1m\u001b[22m\u001b[34m\u001b[34m23353\u001b[34m\u001b[39m \u001b[1m\u001b[1mColumns: \u001b[1m\u001b[22m\u001b[34m\u001b[34m77\u001b[34m\u001b[39m\n",
      "\n",
      "\u001b[36m──\u001b[39m \u001b[1m\u001b[1mColumn specification\u001b[1m\u001b[22m \u001b[36m────────────────────────────────────────────────────────\u001b[39m\n",
      "\u001b[1mDelimiter:\u001b[22m \",\"\n",
      "\u001b[31mchr\u001b[39m (41): participant_id, GUID, visit_name, upd2301_speech_problems, upd2302...\n",
      "\u001b[32mdbl\u001b[39m (36): visit_month, code_upd2301_speech_problems, code_upd2302_facial_exp...\n",
      "\n",
      "\n",
      "\u001b[36mℹ\u001b[39m Use \u001b[30m\u001b[47m\u001b[30m\u001b[47m`spec()`\u001b[47m\u001b[30m\u001b[49m\u001b[39m to retrieve the full column specification for this data.\n",
      "\u001b[36mℹ\u001b[39m Specify the column types or set \u001b[30m\u001b[47m\u001b[30m\u001b[47m`show_col_types = FALSE`\u001b[47m\u001b[30m\u001b[49m\u001b[39m to quiet this message.\n",
      "\n",
      "\u001b[1m\u001b[1mRows: \u001b[1m\u001b[22m\u001b[34m\u001b[34m21220\u001b[34m\u001b[39m \u001b[1m\u001b[1mColumns: \u001b[1m\u001b[22m\u001b[34m\u001b[34m32\u001b[34m\u001b[39m\n",
      "\n",
      "\u001b[36m──\u001b[39m \u001b[1m\u001b[1mColumn specification\u001b[1m\u001b[22m \u001b[36m────────────────────────────────────────────────────────\u001b[39m\n",
      "\u001b[1mDelimiter:\u001b[22m \",\"\n",
      "\u001b[31mchr\u001b[39m (17): participant_id, GUID, visit_name, mds_updrs_part_ii_primary_info_s...\n",
      "\u001b[32mdbl\u001b[39m (15): visit_month, code_upd2201_speech, code_upd2202_saliva_and_drooling...\n",
      "\n",
      "\n",
      "\u001b[36mℹ\u001b[39m Use \u001b[30m\u001b[47m\u001b[30m\u001b[47m`spec()`\u001b[47m\u001b[30m\u001b[49m\u001b[39m to retrieve the full column specification for this data.\n",
      "\u001b[36mℹ\u001b[39m Specify the column types or set \u001b[30m\u001b[47m\u001b[30m\u001b[47m`show_col_types = FALSE`\u001b[47m\u001b[30m\u001b[49m\u001b[39m to quiet this message.\n",
      "\n"
     ]
    },
    {
     "name": "stdout",
     "output_type": "stream",
     "text": [
      "[1] \"Basic information about the demographics data:\"\n",
      "[1] \"\"\n"
     ]
    },
    {
     "data": {
      "text/plain": [
       " participant_id         GUID            visit_name         visit_month    \n",
       " Length:11226       Length:11226       Length:11226       Min.   :-1.000  \n",
       " Class :character   Class :character   Class :character   1st Qu.: 0.000  \n",
       " Mode  :character   Mode  :character   Mode  :character   Median : 0.000  \n",
       "                                                          Mean   : 1.252  \n",
       "                                                          3rd Qu.: 0.000  \n",
       "                                                          Max.   :72.000  \n",
       " age_at_baseline     sex             ethnicity             race          \n",
       " Min.   :16.00   Length:11226       Length:11226       Length:11226      \n",
       " 1st Qu.:60.00   Class :character   Class :character   Class :character  \n",
       " Median :69.00   Mode  :character   Mode  :character   Mode  :character  \n",
       " Mean   :68.07                                                           \n",
       " 3rd Qu.:77.00                                                           \n",
       " Max.   :90.00                                                           \n",
       " education_level_years\n",
       " Length:11226         \n",
       " Class :character     \n",
       " Mode  :character     \n",
       "                      \n",
       "                      \n",
       "                      "
      ]
     },
     "metadata": {},
     "output_type": "display_data"
    },
    {
     "name": "stderr",
     "output_type": "stream",
     "text": [
      "\u001b[1m\u001b[1mRows: \u001b[1m\u001b[22m\u001b[34m\u001b[34m736\u001b[34m\u001b[39m \u001b[1m\u001b[1mColumns: \u001b[1m\u001b[22m\u001b[34m\u001b[34m12\u001b[34m\u001b[39m\n",
      "\n",
      "\u001b[36m──\u001b[39m \u001b[1m\u001b[1mColumn specification\u001b[1m\u001b[22m \u001b[36m────────────────────────────────────────────────────────\u001b[39m\n",
      "\u001b[1mDelimiter:\u001b[22m \"\\t\"\n",
      "\u001b[31mchr\u001b[39m  (2): #FID, IID\n",
      "\u001b[32mdbl\u001b[39m (10): PC1, PC2, PC3, PC4, PC5, PC6, PC7, PC8, PC9, PC10\n",
      "\n",
      "\n",
      "\u001b[36mℹ\u001b[39m Use \u001b[30m\u001b[47m\u001b[30m\u001b[47m`spec()`\u001b[47m\u001b[30m\u001b[49m\u001b[39m to retrieve the full column specification for this data.\n",
      "\u001b[36mℹ\u001b[39m Specify the column types or set \u001b[30m\u001b[47m\u001b[30m\u001b[47m`show_col_types = FALSE`\u001b[47m\u001b[30m\u001b[49m\u001b[39m to quiet this message.\n",
      "\n"
     ]
    },
    {
     "data": {
      "text/html": [
       "<table class=\"dataframe\">\n",
       "<caption>A tibble: 6 × 12</caption>\n",
       "<thead>\n",
       "\t<tr><th scope=col>#FID</th><th scope=col>IID</th><th scope=col>PC1</th><th scope=col>PC2</th><th scope=col>PC3</th><th scope=col>PC4</th><th scope=col>PC5</th><th scope=col>PC6</th><th scope=col>PC7</th><th scope=col>PC8</th><th scope=col>PC9</th><th scope=col>PC10</th></tr>\n",
       "\t<tr><th scope=col>&lt;chr&gt;</th><th scope=col>&lt;chr&gt;</th><th scope=col>&lt;dbl&gt;</th><th scope=col>&lt;dbl&gt;</th><th scope=col>&lt;dbl&gt;</th><th scope=col>&lt;dbl&gt;</th><th scope=col>&lt;dbl&gt;</th><th scope=col>&lt;dbl&gt;</th><th scope=col>&lt;dbl&gt;</th><th scope=col>&lt;dbl&gt;</th><th scope=col>&lt;dbl&gt;</th><th scope=col>&lt;dbl&gt;</th></tr>\n",
       "</thead>\n",
       "<tbody>\n",
       "\t<tr><td>PD-PDAA503EF5</td><td>PD-PDAA503EF5</td><td>-0.01351120</td><td> 0.0390564</td><td>-0.05803800</td><td> 0.01643410</td><td>-0.020268000</td><td>-0.01578240</td><td> 0.00145366</td><td> 0.01179630</td><td>-0.00368082</td><td>-0.0332951</td></tr>\n",
       "\t<tr><td>PD-PDAB074CYQ</td><td>PD-PDAB074CYQ</td><td> 0.01694060</td><td>-0.0153572</td><td>-0.02977120</td><td> 0.01882030</td><td>-0.053620300</td><td>-0.06025830</td><td> 0.00141079</td><td>-0.00146921</td><td>-0.02655640</td><td> 0.0265310</td></tr>\n",
       "\t<tr><td>PD-PDAB549YWB</td><td>PD-PDAB549YWB</td><td> 0.01498390</td><td>-0.0155857</td><td>-0.04234810</td><td> 0.06396330</td><td>-0.002913480</td><td> 0.03562090</td><td>-0.00103406</td><td>-0.01989080</td><td>-0.03729610</td><td> 0.0315869</td></tr>\n",
       "\t<tr><td>PD-PDAB729HWD</td><td>PD-PDAB729HWD</td><td>-0.00104895</td><td>-0.0303585</td><td> 0.09768780</td><td> 0.01505700</td><td>-0.000200239</td><td>-0.00496022</td><td>-0.00660119</td><td>-0.03769800</td><td> 0.00750216</td><td>-0.0741169</td></tr>\n",
       "\t<tr><td>PD-PDAB762PA3</td><td>PD-PDAB762PA3</td><td> 0.02999670</td><td> 0.0192727</td><td> 0.00312318</td><td>-0.02531440</td><td> 0.017677600</td><td> 0.04006200</td><td>-0.02449050</td><td> 0.02665560</td><td>-0.00305509</td><td>-0.0136971</td></tr>\n",
       "\t<tr><td>PD-PDAC268KWV</td><td>PD-PDAC268KWV</td><td>-0.07588630</td><td>-0.0107498</td><td> 0.05981670</td><td> 0.00539207</td><td>-0.000236216</td><td>-0.05026140</td><td>-0.01450710</td><td> 0.01605900</td><td>-0.01050570</td><td> 0.0464046</td></tr>\n",
       "</tbody>\n",
       "</table>\n"
      ],
      "text/latex": [
       "A tibble: 6 × 12\n",
       "\\begin{tabular}{llllllllllll}\n",
       " \\#FID & IID & PC1 & PC2 & PC3 & PC4 & PC5 & PC6 & PC7 & PC8 & PC9 & PC10\\\\\n",
       " <chr> & <chr> & <dbl> & <dbl> & <dbl> & <dbl> & <dbl> & <dbl> & <dbl> & <dbl> & <dbl> & <dbl>\\\\\n",
       "\\hline\n",
       "\t PD-PDAA503EF5 & PD-PDAA503EF5 & -0.01351120 &  0.0390564 & -0.05803800 &  0.01643410 & -0.020268000 & -0.01578240 &  0.00145366 &  0.01179630 & -0.00368082 & -0.0332951\\\\\n",
       "\t PD-PDAB074CYQ & PD-PDAB074CYQ &  0.01694060 & -0.0153572 & -0.02977120 &  0.01882030 & -0.053620300 & -0.06025830 &  0.00141079 & -0.00146921 & -0.02655640 &  0.0265310\\\\\n",
       "\t PD-PDAB549YWB & PD-PDAB549YWB &  0.01498390 & -0.0155857 & -0.04234810 &  0.06396330 & -0.002913480 &  0.03562090 & -0.00103406 & -0.01989080 & -0.03729610 &  0.0315869\\\\\n",
       "\t PD-PDAB729HWD & PD-PDAB729HWD & -0.00104895 & -0.0303585 &  0.09768780 &  0.01505700 & -0.000200239 & -0.00496022 & -0.00660119 & -0.03769800 &  0.00750216 & -0.0741169\\\\\n",
       "\t PD-PDAB762PA3 & PD-PDAB762PA3 &  0.02999670 &  0.0192727 &  0.00312318 & -0.02531440 &  0.017677600 &  0.04006200 & -0.02449050 &  0.02665560 & -0.00305509 & -0.0136971\\\\\n",
       "\t PD-PDAC268KWV & PD-PDAC268KWV & -0.07588630 & -0.0107498 &  0.05981670 &  0.00539207 & -0.000236216 & -0.05026140 & -0.01450710 &  0.01605900 & -0.01050570 &  0.0464046\\\\\n",
       "\\end{tabular}\n"
      ],
      "text/markdown": [
       "\n",
       "A tibble: 6 × 12\n",
       "\n",
       "| #FID &lt;chr&gt; | IID &lt;chr&gt; | PC1 &lt;dbl&gt; | PC2 &lt;dbl&gt; | PC3 &lt;dbl&gt; | PC4 &lt;dbl&gt; | PC5 &lt;dbl&gt; | PC6 &lt;dbl&gt; | PC7 &lt;dbl&gt; | PC8 &lt;dbl&gt; | PC9 &lt;dbl&gt; | PC10 &lt;dbl&gt; |\n",
       "|---|---|---|---|---|---|---|---|---|---|---|---|\n",
       "| PD-PDAA503EF5 | PD-PDAA503EF5 | -0.01351120 |  0.0390564 | -0.05803800 |  0.01643410 | -0.020268000 | -0.01578240 |  0.00145366 |  0.01179630 | -0.00368082 | -0.0332951 |\n",
       "| PD-PDAB074CYQ | PD-PDAB074CYQ |  0.01694060 | -0.0153572 | -0.02977120 |  0.01882030 | -0.053620300 | -0.06025830 |  0.00141079 | -0.00146921 | -0.02655640 |  0.0265310 |\n",
       "| PD-PDAB549YWB | PD-PDAB549YWB |  0.01498390 | -0.0155857 | -0.04234810 |  0.06396330 | -0.002913480 |  0.03562090 | -0.00103406 | -0.01989080 | -0.03729610 |  0.0315869 |\n",
       "| PD-PDAB729HWD | PD-PDAB729HWD | -0.00104895 | -0.0303585 |  0.09768780 |  0.01505700 | -0.000200239 | -0.00496022 | -0.00660119 | -0.03769800 |  0.00750216 | -0.0741169 |\n",
       "| PD-PDAB762PA3 | PD-PDAB762PA3 |  0.02999670 |  0.0192727 |  0.00312318 | -0.02531440 |  0.017677600 |  0.04006200 | -0.02449050 |  0.02665560 | -0.00305509 | -0.0136971 |\n",
       "| PD-PDAC268KWV | PD-PDAC268KWV | -0.07588630 | -0.0107498 |  0.05981670 |  0.00539207 | -0.000236216 | -0.05026140 | -0.01450710 |  0.01605900 | -0.01050570 |  0.0464046 |\n",
       "\n"
      ],
      "text/plain": [
       "  #FID          IID           PC1         PC2        PC3         PC4        \n",
       "1 PD-PDAA503EF5 PD-PDAA503EF5 -0.01351120  0.0390564 -0.05803800  0.01643410\n",
       "2 PD-PDAB074CYQ PD-PDAB074CYQ  0.01694060 -0.0153572 -0.02977120  0.01882030\n",
       "3 PD-PDAB549YWB PD-PDAB549YWB  0.01498390 -0.0155857 -0.04234810  0.06396330\n",
       "4 PD-PDAB729HWD PD-PDAB729HWD -0.00104895 -0.0303585  0.09768780  0.01505700\n",
       "5 PD-PDAB762PA3 PD-PDAB762PA3  0.02999670  0.0192727  0.00312318 -0.02531440\n",
       "6 PD-PDAC268KWV PD-PDAC268KWV -0.07588630 -0.0107498  0.05981670  0.00539207\n",
       "  PC5          PC6         PC7         PC8         PC9         PC10      \n",
       "1 -0.020268000 -0.01578240  0.00145366  0.01179630 -0.00368082 -0.0332951\n",
       "2 -0.053620300 -0.06025830  0.00141079 -0.00146921 -0.02655640  0.0265310\n",
       "3 -0.002913480  0.03562090 -0.00103406 -0.01989080 -0.03729610  0.0315869\n",
       "4 -0.000200239 -0.00496022 -0.00660119 -0.03769800  0.00750216 -0.0741169\n",
       "5  0.017677600  0.04006200 -0.02449050  0.02665560 -0.00305509 -0.0136971\n",
       "6 -0.000236216 -0.05026140 -0.01450710  0.01605900 -0.01050570  0.0464046"
      ]
     },
     "metadata": {},
     "output_type": "display_data"
    },
    {
     "data": {
      "text/html": [
       "<table class=\"dataframe\">\n",
       "<caption>A data.frame: 6 × 8</caption>\n",
       "<thead>\n",
       "\t<tr><th></th><th scope=col>ID</th><th scope=col>visit_month</th><th scope=col>UPDRSIIItotal_imputed</th><th scope=col>UPDRSIII_measure_total</th><th scope=col>UPDRSIIIaxial_imputed</th><th scope=col>UPDRSIII_measure_axial</th><th scope=col>UPDRSIIIlimb_imputed</th><th scope=col>UPDRSIII_measure_limb</th></tr>\n",
       "\t<tr><th></th><th scope=col>&lt;chr&gt;</th><th scope=col>&lt;int&gt;</th><th scope=col>&lt;dbl&gt;</th><th scope=col>&lt;chr&gt;</th><th scope=col>&lt;dbl&gt;</th><th scope=col>&lt;chr&gt;</th><th scope=col>&lt;lgl&gt;</th><th scope=col>&lt;lgl&gt;</th></tr>\n",
       "</thead>\n",
       "<tbody>\n",
       "\t<tr><th scope=row>1</th><td>PD-PDAA503EF5</td><td> 0</td><td>20</td><td>V0_UPDRS_III_total </td><td>20</td><td>V0_UPDRS_III_axial </td><td>NA</td><td>NA</td></tr>\n",
       "\t<tr><th scope=row>2</th><td>PD-PDAA503EF5</td><td>12</td><td>31</td><td>V12_UPDRS_III_total</td><td>31</td><td>V12_UPDRS_III_axial</td><td>NA</td><td>NA</td></tr>\n",
       "\t<tr><th scope=row>3</th><td>PD-PDAA503EF5</td><td>18</td><td>27</td><td>V18_UPDRS_III_total</td><td>27</td><td>V18_UPDRS_III_axial</td><td>NA</td><td>NA</td></tr>\n",
       "\t<tr><th scope=row>4</th><td>PD-PDAA503EF5</td><td>24</td><td>20</td><td>V24_UPDRS_III_total</td><td>20</td><td>V24_UPDRS_III_axial</td><td>NA</td><td>NA</td></tr>\n",
       "\t<tr><th scope=row>5</th><td>PD-PDAA503EF5</td><td>30</td><td>25</td><td>V30_UPDRS_III_total</td><td>25</td><td>V30_UPDRS_III_axial</td><td>NA</td><td>NA</td></tr>\n",
       "\t<tr><th scope=row>6</th><td>PD-PDAA503EF5</td><td>36</td><td>34</td><td>V36_UPDRS_III_total</td><td>34</td><td>V36_UPDRS_III_axial</td><td>NA</td><td>NA</td></tr>\n",
       "</tbody>\n",
       "</table>\n"
      ],
      "text/latex": [
       "A data.frame: 6 × 8\n",
       "\\begin{tabular}{r|llllllll}\n",
       "  & ID & visit\\_month & UPDRSIIItotal\\_imputed & UPDRSIII\\_measure\\_total & UPDRSIIIaxial\\_imputed & UPDRSIII\\_measure\\_axial & UPDRSIIIlimb\\_imputed & UPDRSIII\\_measure\\_limb\\\\\n",
       "  & <chr> & <int> & <dbl> & <chr> & <dbl> & <chr> & <lgl> & <lgl>\\\\\n",
       "\\hline\n",
       "\t1 & PD-PDAA503EF5 &  0 & 20 & V0\\_UPDRS\\_III\\_total  & 20 & V0\\_UPDRS\\_III\\_axial  & NA & NA\\\\\n",
       "\t2 & PD-PDAA503EF5 & 12 & 31 & V12\\_UPDRS\\_III\\_total & 31 & V12\\_UPDRS\\_III\\_axial & NA & NA\\\\\n",
       "\t3 & PD-PDAA503EF5 & 18 & 27 & V18\\_UPDRS\\_III\\_total & 27 & V18\\_UPDRS\\_III\\_axial & NA & NA\\\\\n",
       "\t4 & PD-PDAA503EF5 & 24 & 20 & V24\\_UPDRS\\_III\\_total & 20 & V24\\_UPDRS\\_III\\_axial & NA & NA\\\\\n",
       "\t5 & PD-PDAA503EF5 & 30 & 25 & V30\\_UPDRS\\_III\\_total & 25 & V30\\_UPDRS\\_III\\_axial & NA & NA\\\\\n",
       "\t6 & PD-PDAA503EF5 & 36 & 34 & V36\\_UPDRS\\_III\\_total & 34 & V36\\_UPDRS\\_III\\_axial & NA & NA\\\\\n",
       "\\end{tabular}\n"
      ],
      "text/markdown": [
       "\n",
       "A data.frame: 6 × 8\n",
       "\n",
       "| <!--/--> | ID &lt;chr&gt; | visit_month &lt;int&gt; | UPDRSIIItotal_imputed &lt;dbl&gt; | UPDRSIII_measure_total &lt;chr&gt; | UPDRSIIIaxial_imputed &lt;dbl&gt; | UPDRSIII_measure_axial &lt;chr&gt; | UPDRSIIIlimb_imputed &lt;lgl&gt; | UPDRSIII_measure_limb &lt;lgl&gt; |\n",
       "|---|---|---|---|---|---|---|---|---|\n",
       "| 1 | PD-PDAA503EF5 |  0 | 20 | V0_UPDRS_III_total  | 20 | V0_UPDRS_III_axial  | NA | NA |\n",
       "| 2 | PD-PDAA503EF5 | 12 | 31 | V12_UPDRS_III_total | 31 | V12_UPDRS_III_axial | NA | NA |\n",
       "| 3 | PD-PDAA503EF5 | 18 | 27 | V18_UPDRS_III_total | 27 | V18_UPDRS_III_axial | NA | NA |\n",
       "| 4 | PD-PDAA503EF5 | 24 | 20 | V24_UPDRS_III_total | 20 | V24_UPDRS_III_axial | NA | NA |\n",
       "| 5 | PD-PDAA503EF5 | 30 | 25 | V30_UPDRS_III_total | 25 | V30_UPDRS_III_axial | NA | NA |\n",
       "| 6 | PD-PDAA503EF5 | 36 | 34 | V36_UPDRS_III_total | 34 | V36_UPDRS_III_axial | NA | NA |\n",
       "\n"
      ],
      "text/plain": [
       "  ID            visit_month UPDRSIIItotal_imputed UPDRSIII_measure_total\n",
       "1 PD-PDAA503EF5  0          20                    V0_UPDRS_III_total    \n",
       "2 PD-PDAA503EF5 12          31                    V12_UPDRS_III_total   \n",
       "3 PD-PDAA503EF5 18          27                    V18_UPDRS_III_total   \n",
       "4 PD-PDAA503EF5 24          20                    V24_UPDRS_III_total   \n",
       "5 PD-PDAA503EF5 30          25                    V30_UPDRS_III_total   \n",
       "6 PD-PDAA503EF5 36          34                    V36_UPDRS_III_total   \n",
       "  UPDRSIIIaxial_imputed UPDRSIII_measure_axial UPDRSIIIlimb_imputed\n",
       "1 20                    V0_UPDRS_III_axial     NA                  \n",
       "2 31                    V12_UPDRS_III_axial    NA                  \n",
       "3 27                    V18_UPDRS_III_axial    NA                  \n",
       "4 20                    V24_UPDRS_III_axial    NA                  \n",
       "5 25                    V30_UPDRS_III_axial    NA                  \n",
       "6 34                    V36_UPDRS_III_axial    NA                  \n",
       "  UPDRSIII_measure_limb\n",
       "1 NA                   \n",
       "2 NA                   \n",
       "3 NA                   \n",
       "4 NA                   \n",
       "5 NA                   \n",
       "6 NA                   "
      ]
     },
     "metadata": {},
     "output_type": "display_data"
    }
   ],
   "source": [
    "demographics_df <- gcs_read_csv(file.path(GS_CLINICAL_RELEASE_PATH, 'Demographics.csv'))\n",
    "UPDRSIII_HY <- gcs_read_csv(file.path(GS_CLINICAL_RELEASE_PATH, 'MDS_UPDRS_Part_III.csv'))\n",
    "UPDRSII <-  gcs_read_csv(file.path(GS_CLINICAL_RELEASE_PATH, 'MDS_UPDRS_Part_II.csv'))\n",
    "\n",
    "print('Basic information about the demographics data:')\n",
    "print('')\n",
    "summary(demographics_df)\n",
    "\n",
    "PDBP.PC <- read_tsv(\"/home/jupyter/working_dir/PDBP_QCed.PCA.eigenvec\")\n",
    "PDBP.outcome_all <- read.csv(\"/home/jupyter/working_dir/PDBPoutput_imputed_allVisits.csv\")\n",
    "PDBP.outcome <- read.csv(\"/home/jupyter/working_dir/PDBPoutput_imputed_36m.csv\")\n",
    "\n",
    "head(PDBP.PC)\n",
    "head(PDBP.outcome)"
   ]
  },
  {
   "cell_type": "code",
   "execution_count": 22,
   "metadata": {},
   "outputs": [],
   "source": [
    "clinical_PCs_df = PDBP.outcome %>% \n",
    "    inner_join(PDBP.PC %>% select(-`#FID`), by = c(\"ID\" = \"IID\")) %>%\n",
    "    inner_join(demographics_df %>% select(participant_id, age_at_baseline, sex), by = c(\"ID\"=\"participant_id\")) %>%\n",
    "    mutate(sex = relevel(as.factor(sex), ref= \"Male\")) %>%\n",
    "    inner_join(UPDRSII %>% select(participant_id, visit_month, mds_updrs_part_ii_summary_score),\n",
    "              by = c(\"ID\"=\"participant_id\", \"visit_month\")) %>%\n",
    "    inner_join(UPDRSIII_HY %>% select(participant_id, visit_month, code_upd2hy_hoehn_and_yahr_stage),\n",
    "              by = c(\"ID\"=\"participant_id\", \"visit_month\"))\n",
    "  \n",
    "\n",
    "clinical_PCs_df_all = PDBP.outcome_all %>% \n",
    "    inner_join(PDBP.PC %>% select(-`#FID`), by = c(\"ID\" = \"IID\")) %>%\n",
    "    inner_join(demographics_df %>% select(participant_id, age_at_baseline, sex), by = c(\"ID\"=\"participant_id\")) %>%\n",
    "    mutate(sex = relevel(as.factor(sex), ref= \"Male\")) %>%\n",
    "    inner_join(UPDRSII %>% select(participant_id, visit_month, mds_updrs_part_ii_summary_score),\n",
    "              by = c(\"ID\"=\"participant_id\", \"visit_month\")) %>%\n",
    "    inner_join(UPDRSIII_HY %>% select(participant_id, visit_month, code_upd2hy_hoehn_and_yahr_stage),\n",
    "              by = c(\"ID\"=\"participant_id\", \"visit_month\"))\n"
   ]
  },
  {
   "cell_type": "code",
   "execution_count": 23,
   "metadata": {},
   "outputs": [
    {
     "data": {
      "text/html": [
       "<table class=\"dataframe\">\n",
       "<caption>A data.frame: 6 × 22</caption>\n",
       "<thead>\n",
       "\t<tr><th></th><th scope=col>ID</th><th scope=col>visit_month</th><th scope=col>UPDRSIIItotal_imputed</th><th scope=col>UPDRSIII_measure_total</th><th scope=col>UPDRSIIIaxial_imputed</th><th scope=col>UPDRSIII_measure_axial</th><th scope=col>UPDRSIIIlimb_imputed</th><th scope=col>UPDRSIII_measure_limb</th><th scope=col>PC1</th><th scope=col>PC2</th><th scope=col>⋯</th><th scope=col>PC5</th><th scope=col>PC6</th><th scope=col>PC7</th><th scope=col>PC8</th><th scope=col>PC9</th><th scope=col>PC10</th><th scope=col>age_at_baseline</th><th scope=col>sex</th><th scope=col>mds_updrs_part_ii_summary_score</th><th scope=col>code_upd2hy_hoehn_and_yahr_stage</th></tr>\n",
       "\t<tr><th></th><th scope=col>&lt;chr&gt;</th><th scope=col>&lt;dbl&gt;</th><th scope=col>&lt;dbl&gt;</th><th scope=col>&lt;chr&gt;</th><th scope=col>&lt;dbl&gt;</th><th scope=col>&lt;chr&gt;</th><th scope=col>&lt;lgl&gt;</th><th scope=col>&lt;lgl&gt;</th><th scope=col>&lt;dbl&gt;</th><th scope=col>&lt;dbl&gt;</th><th scope=col>⋯</th><th scope=col>&lt;dbl&gt;</th><th scope=col>&lt;dbl&gt;</th><th scope=col>&lt;dbl&gt;</th><th scope=col>&lt;dbl&gt;</th><th scope=col>&lt;dbl&gt;</th><th scope=col>&lt;dbl&gt;</th><th scope=col>&lt;dbl&gt;</th><th scope=col>&lt;fct&gt;</th><th scope=col>&lt;dbl&gt;</th><th scope=col>&lt;dbl&gt;</th></tr>\n",
       "</thead>\n",
       "<tbody>\n",
       "\t<tr><th scope=row>1</th><td>PD-PDAA503EF5</td><td> 0</td><td>20</td><td>V0_UPDRS_III_total </td><td>20</td><td>V0_UPDRS_III_axial </td><td>NA</td><td>NA</td><td>-0.0135112</td><td>0.0390564</td><td>⋯</td><td>-0.020268</td><td>-0.0157824</td><td>0.00145366</td><td>0.0117963</td><td>-0.00368082</td><td>-0.0332951</td><td>70</td><td>Female</td><td>13</td><td>2</td></tr>\n",
       "\t<tr><th scope=row>2</th><td>PD-PDAA503EF5</td><td>12</td><td>31</td><td>V12_UPDRS_III_total</td><td>31</td><td>V12_UPDRS_III_axial</td><td>NA</td><td>NA</td><td>-0.0135112</td><td>0.0390564</td><td>⋯</td><td>-0.020268</td><td>-0.0157824</td><td>0.00145366</td><td>0.0117963</td><td>-0.00368082</td><td>-0.0332951</td><td>70</td><td>Female</td><td>11</td><td>2</td></tr>\n",
       "\t<tr><th scope=row>3</th><td>PD-PDAA503EF5</td><td>18</td><td>27</td><td>V18_UPDRS_III_total</td><td>27</td><td>V18_UPDRS_III_axial</td><td>NA</td><td>NA</td><td>-0.0135112</td><td>0.0390564</td><td>⋯</td><td>-0.020268</td><td>-0.0157824</td><td>0.00145366</td><td>0.0117963</td><td>-0.00368082</td><td>-0.0332951</td><td>70</td><td>Female</td><td>13</td><td>2</td></tr>\n",
       "\t<tr><th scope=row>4</th><td>PD-PDAA503EF5</td><td>24</td><td>20</td><td>V24_UPDRS_III_total</td><td>20</td><td>V24_UPDRS_III_axial</td><td>NA</td><td>NA</td><td>-0.0135112</td><td>0.0390564</td><td>⋯</td><td>-0.020268</td><td>-0.0157824</td><td>0.00145366</td><td>0.0117963</td><td>-0.00368082</td><td>-0.0332951</td><td>70</td><td>Female</td><td>13</td><td>2</td></tr>\n",
       "\t<tr><th scope=row>5</th><td>PD-PDAA503EF5</td><td>30</td><td>25</td><td>V30_UPDRS_III_total</td><td>25</td><td>V30_UPDRS_III_axial</td><td>NA</td><td>NA</td><td>-0.0135112</td><td>0.0390564</td><td>⋯</td><td>-0.020268</td><td>-0.0157824</td><td>0.00145366</td><td>0.0117963</td><td>-0.00368082</td><td>-0.0332951</td><td>70</td><td>Female</td><td> 9</td><td>2</td></tr>\n",
       "\t<tr><th scope=row>6</th><td>PD-PDAA503EF5</td><td>36</td><td>34</td><td>V36_UPDRS_III_total</td><td>34</td><td>V36_UPDRS_III_axial</td><td>NA</td><td>NA</td><td>-0.0135112</td><td>0.0390564</td><td>⋯</td><td>-0.020268</td><td>-0.0157824</td><td>0.00145366</td><td>0.0117963</td><td>-0.00368082</td><td>-0.0332951</td><td>70</td><td>Female</td><td>15</td><td>2</td></tr>\n",
       "</tbody>\n",
       "</table>\n"
      ],
      "text/latex": [
       "A data.frame: 6 × 22\n",
       "\\begin{tabular}{r|lllllllllllllllllllll}\n",
       "  & ID & visit\\_month & UPDRSIIItotal\\_imputed & UPDRSIII\\_measure\\_total & UPDRSIIIaxial\\_imputed & UPDRSIII\\_measure\\_axial & UPDRSIIIlimb\\_imputed & UPDRSIII\\_measure\\_limb & PC1 & PC2 & ⋯ & PC5 & PC6 & PC7 & PC8 & PC9 & PC10 & age\\_at\\_baseline & sex & mds\\_updrs\\_part\\_ii\\_summary\\_score & code\\_upd2hy\\_hoehn\\_and\\_yahr\\_stage\\\\\n",
       "  & <chr> & <dbl> & <dbl> & <chr> & <dbl> & <chr> & <lgl> & <lgl> & <dbl> & <dbl> & ⋯ & <dbl> & <dbl> & <dbl> & <dbl> & <dbl> & <dbl> & <dbl> & <fct> & <dbl> & <dbl>\\\\\n",
       "\\hline\n",
       "\t1 & PD-PDAA503EF5 &  0 & 20 & V0\\_UPDRS\\_III\\_total  & 20 & V0\\_UPDRS\\_III\\_axial  & NA & NA & -0.0135112 & 0.0390564 & ⋯ & -0.020268 & -0.0157824 & 0.00145366 & 0.0117963 & -0.00368082 & -0.0332951 & 70 & Female & 13 & 2\\\\\n",
       "\t2 & PD-PDAA503EF5 & 12 & 31 & V12\\_UPDRS\\_III\\_total & 31 & V12\\_UPDRS\\_III\\_axial & NA & NA & -0.0135112 & 0.0390564 & ⋯ & -0.020268 & -0.0157824 & 0.00145366 & 0.0117963 & -0.00368082 & -0.0332951 & 70 & Female & 11 & 2\\\\\n",
       "\t3 & PD-PDAA503EF5 & 18 & 27 & V18\\_UPDRS\\_III\\_total & 27 & V18\\_UPDRS\\_III\\_axial & NA & NA & -0.0135112 & 0.0390564 & ⋯ & -0.020268 & -0.0157824 & 0.00145366 & 0.0117963 & -0.00368082 & -0.0332951 & 70 & Female & 13 & 2\\\\\n",
       "\t4 & PD-PDAA503EF5 & 24 & 20 & V24\\_UPDRS\\_III\\_total & 20 & V24\\_UPDRS\\_III\\_axial & NA & NA & -0.0135112 & 0.0390564 & ⋯ & -0.020268 & -0.0157824 & 0.00145366 & 0.0117963 & -0.00368082 & -0.0332951 & 70 & Female & 13 & 2\\\\\n",
       "\t5 & PD-PDAA503EF5 & 30 & 25 & V30\\_UPDRS\\_III\\_total & 25 & V30\\_UPDRS\\_III\\_axial & NA & NA & -0.0135112 & 0.0390564 & ⋯ & -0.020268 & -0.0157824 & 0.00145366 & 0.0117963 & -0.00368082 & -0.0332951 & 70 & Female &  9 & 2\\\\\n",
       "\t6 & PD-PDAA503EF5 & 36 & 34 & V36\\_UPDRS\\_III\\_total & 34 & V36\\_UPDRS\\_III\\_axial & NA & NA & -0.0135112 & 0.0390564 & ⋯ & -0.020268 & -0.0157824 & 0.00145366 & 0.0117963 & -0.00368082 & -0.0332951 & 70 & Female & 15 & 2\\\\\n",
       "\\end{tabular}\n"
      ],
      "text/markdown": [
       "\n",
       "A data.frame: 6 × 22\n",
       "\n",
       "| <!--/--> | ID &lt;chr&gt; | visit_month &lt;dbl&gt; | UPDRSIIItotal_imputed &lt;dbl&gt; | UPDRSIII_measure_total &lt;chr&gt; | UPDRSIIIaxial_imputed &lt;dbl&gt; | UPDRSIII_measure_axial &lt;chr&gt; | UPDRSIIIlimb_imputed &lt;lgl&gt; | UPDRSIII_measure_limb &lt;lgl&gt; | PC1 &lt;dbl&gt; | PC2 &lt;dbl&gt; | ⋯ ⋯ | PC5 &lt;dbl&gt; | PC6 &lt;dbl&gt; | PC7 &lt;dbl&gt; | PC8 &lt;dbl&gt; | PC9 &lt;dbl&gt; | PC10 &lt;dbl&gt; | age_at_baseline &lt;dbl&gt; | sex &lt;fct&gt; | mds_updrs_part_ii_summary_score &lt;dbl&gt; | code_upd2hy_hoehn_and_yahr_stage &lt;dbl&gt; |\n",
       "|---|---|---|---|---|---|---|---|---|---|---|---|---|---|---|---|---|---|---|---|---|---|\n",
       "| 1 | PD-PDAA503EF5 |  0 | 20 | V0_UPDRS_III_total  | 20 | V0_UPDRS_III_axial  | NA | NA | -0.0135112 | 0.0390564 | ⋯ | -0.020268 | -0.0157824 | 0.00145366 | 0.0117963 | -0.00368082 | -0.0332951 | 70 | Female | 13 | 2 |\n",
       "| 2 | PD-PDAA503EF5 | 12 | 31 | V12_UPDRS_III_total | 31 | V12_UPDRS_III_axial | NA | NA | -0.0135112 | 0.0390564 | ⋯ | -0.020268 | -0.0157824 | 0.00145366 | 0.0117963 | -0.00368082 | -0.0332951 | 70 | Female | 11 | 2 |\n",
       "| 3 | PD-PDAA503EF5 | 18 | 27 | V18_UPDRS_III_total | 27 | V18_UPDRS_III_axial | NA | NA | -0.0135112 | 0.0390564 | ⋯ | -0.020268 | -0.0157824 | 0.00145366 | 0.0117963 | -0.00368082 | -0.0332951 | 70 | Female | 13 | 2 |\n",
       "| 4 | PD-PDAA503EF5 | 24 | 20 | V24_UPDRS_III_total | 20 | V24_UPDRS_III_axial | NA | NA | -0.0135112 | 0.0390564 | ⋯ | -0.020268 | -0.0157824 | 0.00145366 | 0.0117963 | -0.00368082 | -0.0332951 | 70 | Female | 13 | 2 |\n",
       "| 5 | PD-PDAA503EF5 | 30 | 25 | V30_UPDRS_III_total | 25 | V30_UPDRS_III_axial | NA | NA | -0.0135112 | 0.0390564 | ⋯ | -0.020268 | -0.0157824 | 0.00145366 | 0.0117963 | -0.00368082 | -0.0332951 | 70 | Female |  9 | 2 |\n",
       "| 6 | PD-PDAA503EF5 | 36 | 34 | V36_UPDRS_III_total | 34 | V36_UPDRS_III_axial | NA | NA | -0.0135112 | 0.0390564 | ⋯ | -0.020268 | -0.0157824 | 0.00145366 | 0.0117963 | -0.00368082 | -0.0332951 | 70 | Female | 15 | 2 |\n",
       "\n"
      ],
      "text/plain": [
       "  ID            visit_month UPDRSIIItotal_imputed UPDRSIII_measure_total\n",
       "1 PD-PDAA503EF5  0          20                    V0_UPDRS_III_total    \n",
       "2 PD-PDAA503EF5 12          31                    V12_UPDRS_III_total   \n",
       "3 PD-PDAA503EF5 18          27                    V18_UPDRS_III_total   \n",
       "4 PD-PDAA503EF5 24          20                    V24_UPDRS_III_total   \n",
       "5 PD-PDAA503EF5 30          25                    V30_UPDRS_III_total   \n",
       "6 PD-PDAA503EF5 36          34                    V36_UPDRS_III_total   \n",
       "  UPDRSIIIaxial_imputed UPDRSIII_measure_axial UPDRSIIIlimb_imputed\n",
       "1 20                    V0_UPDRS_III_axial     NA                  \n",
       "2 31                    V12_UPDRS_III_axial    NA                  \n",
       "3 27                    V18_UPDRS_III_axial    NA                  \n",
       "4 20                    V24_UPDRS_III_axial    NA                  \n",
       "5 25                    V30_UPDRS_III_axial    NA                  \n",
       "6 34                    V36_UPDRS_III_axial    NA                  \n",
       "  UPDRSIII_measure_limb PC1        PC2       ⋯ PC5       PC6        PC7       \n",
       "1 NA                    -0.0135112 0.0390564 ⋯ -0.020268 -0.0157824 0.00145366\n",
       "2 NA                    -0.0135112 0.0390564 ⋯ -0.020268 -0.0157824 0.00145366\n",
       "3 NA                    -0.0135112 0.0390564 ⋯ -0.020268 -0.0157824 0.00145366\n",
       "4 NA                    -0.0135112 0.0390564 ⋯ -0.020268 -0.0157824 0.00145366\n",
       "5 NA                    -0.0135112 0.0390564 ⋯ -0.020268 -0.0157824 0.00145366\n",
       "6 NA                    -0.0135112 0.0390564 ⋯ -0.020268 -0.0157824 0.00145366\n",
       "  PC8       PC9         PC10       age_at_baseline sex   \n",
       "1 0.0117963 -0.00368082 -0.0332951 70              Female\n",
       "2 0.0117963 -0.00368082 -0.0332951 70              Female\n",
       "3 0.0117963 -0.00368082 -0.0332951 70              Female\n",
       "4 0.0117963 -0.00368082 -0.0332951 70              Female\n",
       "5 0.0117963 -0.00368082 -0.0332951 70              Female\n",
       "6 0.0117963 -0.00368082 -0.0332951 70              Female\n",
       "  mds_updrs_part_ii_summary_score code_upd2hy_hoehn_and_yahr_stage\n",
       "1 13                              2                               \n",
       "2 11                              2                               \n",
       "3 13                              2                               \n",
       "4 13                              2                               \n",
       "5  9                              2                               \n",
       "6 15                              2                               "
      ]
     },
     "metadata": {},
     "output_type": "display_data"
    },
    {
     "name": "stdout",
     "output_type": "stream",
     "text": [
      "'data.frame':\t2466 obs. of  22 variables:\n",
      " $ ID                              : chr  \"PD-PDAA503EF5\" \"PD-PDAA503EF5\" \"PD-PDAA503EF5\" \"PD-PDAA503EF5\" ...\n",
      " $ visit_month                     : num  0 12 18 24 30 36 6 0 0 12 ...\n",
      " $ UPDRSIIItotal_imputed           : num  20 31 27 20 25 34 19 15 5 5 ...\n",
      " $ UPDRSIII_measure_total          : chr  \"V0_UPDRS_III_total\" \"V12_UPDRS_III_total\" \"V18_UPDRS_III_total\" \"V24_UPDRS_III_total\" ...\n",
      " $ UPDRSIIIaxial_imputed           : num  20 31 27 20 25 34 19 15 5 5 ...\n",
      " $ UPDRSIII_measure_axial          : chr  \"V0_UPDRS_III_axial\" \"V12_UPDRS_III_axial\" \"V18_UPDRS_III_axial\" \"V24_UPDRS_III_axial\" ...\n",
      " $ UPDRSIIIlimb_imputed            : logi  NA NA NA NA NA NA ...\n",
      " $ UPDRSIII_measure_limb           : logi  NA NA NA NA NA NA ...\n",
      " $ PC1                             : num  -0.0135 -0.0135 -0.0135 -0.0135 -0.0135 ...\n",
      " $ PC2                             : num  0.0391 0.0391 0.0391 0.0391 0.0391 ...\n",
      " $ PC3                             : num  -0.058 -0.058 -0.058 -0.058 -0.058 ...\n",
      " $ PC4                             : num  0.0164 0.0164 0.0164 0.0164 0.0164 ...\n",
      " $ PC5                             : num  -0.0203 -0.0203 -0.0203 -0.0203 -0.0203 ...\n",
      " $ PC6                             : num  -0.0158 -0.0158 -0.0158 -0.0158 -0.0158 ...\n",
      " $ PC7                             : num  0.00145 0.00145 0.00145 0.00145 0.00145 ...\n",
      " $ PC8                             : num  0.0118 0.0118 0.0118 0.0118 0.0118 ...\n",
      " $ PC9                             : num  -0.00368 -0.00368 -0.00368 -0.00368 -0.00368 ...\n",
      " $ PC10                            : num  -0.0333 -0.0333 -0.0333 -0.0333 -0.0333 ...\n",
      " $ age_at_baseline                 : num  70 70 70 70 70 70 70 65 57 57 ...\n",
      " $ sex                             : Factor w/ 2 levels \"Male\",\"Female\": 2 2 2 2 2 2 2 1 1 1 ...\n",
      " $ mds_updrs_part_ii_summary_score : num  13 11 13 13 9 15 12 12 4 8 ...\n",
      " $ code_upd2hy_hoehn_and_yahr_stage: num  2 2 2 2 2 2 2 2 1 2 ...\n"
     ]
    },
    {
     "data": {
      "text/html": [
       "<style>\n",
       ".list-inline {list-style: none; margin:0; padding: 0}\n",
       ".list-inline>li {display: inline-block}\n",
       ".list-inline>li:not(:last-child)::after {content: \"\\00b7\"; padding: 0 .5ex}\n",
       "</style>\n",
       "<ol class=list-inline><li>2466</li><li>22</li></ol>\n"
      ],
      "text/latex": [
       "\\begin{enumerate*}\n",
       "\\item 2466\n",
       "\\item 22\n",
       "\\end{enumerate*}\n"
      ],
      "text/markdown": [
       "1. 2466\n",
       "2. 22\n",
       "\n",
       "\n"
      ],
      "text/plain": [
       "[1] 2466   22"
      ]
     },
     "metadata": {},
     "output_type": "display_data"
    },
    {
     "data": {
      "text/html": [
       "<table class=\"dataframe\">\n",
       "<caption>A data.frame: 6 × 22</caption>\n",
       "<thead>\n",
       "\t<tr><th></th><th scope=col>ID</th><th scope=col>visit_month</th><th scope=col>UPDRSIIItotal_imputed</th><th scope=col>UPDRSIII_measure_total</th><th scope=col>UPDRSIIIaxial_imputed</th><th scope=col>UPDRSIII_measure_axial</th><th scope=col>UPDRSIIIlimb_imputed</th><th scope=col>UPDRSIII_measure_limb</th><th scope=col>PC1</th><th scope=col>PC2</th><th scope=col>⋯</th><th scope=col>PC5</th><th scope=col>PC6</th><th scope=col>PC7</th><th scope=col>PC8</th><th scope=col>PC9</th><th scope=col>PC10</th><th scope=col>age_at_baseline</th><th scope=col>sex</th><th scope=col>mds_updrs_part_ii_summary_score</th><th scope=col>code_upd2hy_hoehn_and_yahr_stage</th></tr>\n",
       "\t<tr><th></th><th scope=col>&lt;chr&gt;</th><th scope=col>&lt;dbl&gt;</th><th scope=col>&lt;dbl&gt;</th><th scope=col>&lt;chr&gt;</th><th scope=col>&lt;dbl&gt;</th><th scope=col>&lt;chr&gt;</th><th scope=col>&lt;lgl&gt;</th><th scope=col>&lt;lgl&gt;</th><th scope=col>&lt;dbl&gt;</th><th scope=col>&lt;dbl&gt;</th><th scope=col>⋯</th><th scope=col>&lt;dbl&gt;</th><th scope=col>&lt;dbl&gt;</th><th scope=col>&lt;dbl&gt;</th><th scope=col>&lt;dbl&gt;</th><th scope=col>&lt;dbl&gt;</th><th scope=col>&lt;dbl&gt;</th><th scope=col>&lt;dbl&gt;</th><th scope=col>&lt;fct&gt;</th><th scope=col>&lt;dbl&gt;</th><th scope=col>&lt;dbl&gt;</th></tr>\n",
       "</thead>\n",
       "<tbody>\n",
       "\t<tr><th scope=row>1</th><td>PD-PDAA503EF5</td><td> 0</td><td>20</td><td>V0_UPDRS_III_total </td><td>20</td><td>V0_UPDRS_III_axial </td><td>NA</td><td>NA</td><td>-0.0135112</td><td>0.0390564</td><td>⋯</td><td>-0.020268</td><td>-0.0157824</td><td>0.00145366</td><td>0.0117963</td><td>-0.00368082</td><td>-0.0332951</td><td>70</td><td>Female</td><td>13</td><td>2</td></tr>\n",
       "\t<tr><th scope=row>2</th><td>PD-PDAA503EF5</td><td>12</td><td>31</td><td>V12_UPDRS_III_total</td><td>31</td><td>V12_UPDRS_III_axial</td><td>NA</td><td>NA</td><td>-0.0135112</td><td>0.0390564</td><td>⋯</td><td>-0.020268</td><td>-0.0157824</td><td>0.00145366</td><td>0.0117963</td><td>-0.00368082</td><td>-0.0332951</td><td>70</td><td>Female</td><td>11</td><td>2</td></tr>\n",
       "\t<tr><th scope=row>3</th><td>PD-PDAA503EF5</td><td>18</td><td>27</td><td>V18_UPDRS_III_total</td><td>27</td><td>V18_UPDRS_III_axial</td><td>NA</td><td>NA</td><td>-0.0135112</td><td>0.0390564</td><td>⋯</td><td>-0.020268</td><td>-0.0157824</td><td>0.00145366</td><td>0.0117963</td><td>-0.00368082</td><td>-0.0332951</td><td>70</td><td>Female</td><td>13</td><td>2</td></tr>\n",
       "\t<tr><th scope=row>4</th><td>PD-PDAA503EF5</td><td>24</td><td>20</td><td>V24_UPDRS_III_total</td><td>20</td><td>V24_UPDRS_III_axial</td><td>NA</td><td>NA</td><td>-0.0135112</td><td>0.0390564</td><td>⋯</td><td>-0.020268</td><td>-0.0157824</td><td>0.00145366</td><td>0.0117963</td><td>-0.00368082</td><td>-0.0332951</td><td>70</td><td>Female</td><td>13</td><td>2</td></tr>\n",
       "\t<tr><th scope=row>5</th><td>PD-PDAA503EF5</td><td>30</td><td>25</td><td>V30_UPDRS_III_total</td><td>25</td><td>V30_UPDRS_III_axial</td><td>NA</td><td>NA</td><td>-0.0135112</td><td>0.0390564</td><td>⋯</td><td>-0.020268</td><td>-0.0157824</td><td>0.00145366</td><td>0.0117963</td><td>-0.00368082</td><td>-0.0332951</td><td>70</td><td>Female</td><td> 9</td><td>2</td></tr>\n",
       "\t<tr><th scope=row>6</th><td>PD-PDAA503EF5</td><td>36</td><td>34</td><td>V36_UPDRS_III_total</td><td>34</td><td>V36_UPDRS_III_axial</td><td>NA</td><td>NA</td><td>-0.0135112</td><td>0.0390564</td><td>⋯</td><td>-0.020268</td><td>-0.0157824</td><td>0.00145366</td><td>0.0117963</td><td>-0.00368082</td><td>-0.0332951</td><td>70</td><td>Female</td><td>15</td><td>2</td></tr>\n",
       "</tbody>\n",
       "</table>\n"
      ],
      "text/latex": [
       "A data.frame: 6 × 22\n",
       "\\begin{tabular}{r|lllllllllllllllllllll}\n",
       "  & ID & visit\\_month & UPDRSIIItotal\\_imputed & UPDRSIII\\_measure\\_total & UPDRSIIIaxial\\_imputed & UPDRSIII\\_measure\\_axial & UPDRSIIIlimb\\_imputed & UPDRSIII\\_measure\\_limb & PC1 & PC2 & ⋯ & PC5 & PC6 & PC7 & PC8 & PC9 & PC10 & age\\_at\\_baseline & sex & mds\\_updrs\\_part\\_ii\\_summary\\_score & code\\_upd2hy\\_hoehn\\_and\\_yahr\\_stage\\\\\n",
       "  & <chr> & <dbl> & <dbl> & <chr> & <dbl> & <chr> & <lgl> & <lgl> & <dbl> & <dbl> & ⋯ & <dbl> & <dbl> & <dbl> & <dbl> & <dbl> & <dbl> & <dbl> & <fct> & <dbl> & <dbl>\\\\\n",
       "\\hline\n",
       "\t1 & PD-PDAA503EF5 &  0 & 20 & V0\\_UPDRS\\_III\\_total  & 20 & V0\\_UPDRS\\_III\\_axial  & NA & NA & -0.0135112 & 0.0390564 & ⋯ & -0.020268 & -0.0157824 & 0.00145366 & 0.0117963 & -0.00368082 & -0.0332951 & 70 & Female & 13 & 2\\\\\n",
       "\t2 & PD-PDAA503EF5 & 12 & 31 & V12\\_UPDRS\\_III\\_total & 31 & V12\\_UPDRS\\_III\\_axial & NA & NA & -0.0135112 & 0.0390564 & ⋯ & -0.020268 & -0.0157824 & 0.00145366 & 0.0117963 & -0.00368082 & -0.0332951 & 70 & Female & 11 & 2\\\\\n",
       "\t3 & PD-PDAA503EF5 & 18 & 27 & V18\\_UPDRS\\_III\\_total & 27 & V18\\_UPDRS\\_III\\_axial & NA & NA & -0.0135112 & 0.0390564 & ⋯ & -0.020268 & -0.0157824 & 0.00145366 & 0.0117963 & -0.00368082 & -0.0332951 & 70 & Female & 13 & 2\\\\\n",
       "\t4 & PD-PDAA503EF5 & 24 & 20 & V24\\_UPDRS\\_III\\_total & 20 & V24\\_UPDRS\\_III\\_axial & NA & NA & -0.0135112 & 0.0390564 & ⋯ & -0.020268 & -0.0157824 & 0.00145366 & 0.0117963 & -0.00368082 & -0.0332951 & 70 & Female & 13 & 2\\\\\n",
       "\t5 & PD-PDAA503EF5 & 30 & 25 & V30\\_UPDRS\\_III\\_total & 25 & V30\\_UPDRS\\_III\\_axial & NA & NA & -0.0135112 & 0.0390564 & ⋯ & -0.020268 & -0.0157824 & 0.00145366 & 0.0117963 & -0.00368082 & -0.0332951 & 70 & Female &  9 & 2\\\\\n",
       "\t6 & PD-PDAA503EF5 & 36 & 34 & V36\\_UPDRS\\_III\\_total & 34 & V36\\_UPDRS\\_III\\_axial & NA & NA & -0.0135112 & 0.0390564 & ⋯ & -0.020268 & -0.0157824 & 0.00145366 & 0.0117963 & -0.00368082 & -0.0332951 & 70 & Female & 15 & 2\\\\\n",
       "\\end{tabular}\n"
      ],
      "text/markdown": [
       "\n",
       "A data.frame: 6 × 22\n",
       "\n",
       "| <!--/--> | ID &lt;chr&gt; | visit_month &lt;dbl&gt; | UPDRSIIItotal_imputed &lt;dbl&gt; | UPDRSIII_measure_total &lt;chr&gt; | UPDRSIIIaxial_imputed &lt;dbl&gt; | UPDRSIII_measure_axial &lt;chr&gt; | UPDRSIIIlimb_imputed &lt;lgl&gt; | UPDRSIII_measure_limb &lt;lgl&gt; | PC1 &lt;dbl&gt; | PC2 &lt;dbl&gt; | ⋯ ⋯ | PC5 &lt;dbl&gt; | PC6 &lt;dbl&gt; | PC7 &lt;dbl&gt; | PC8 &lt;dbl&gt; | PC9 &lt;dbl&gt; | PC10 &lt;dbl&gt; | age_at_baseline &lt;dbl&gt; | sex &lt;fct&gt; | mds_updrs_part_ii_summary_score &lt;dbl&gt; | code_upd2hy_hoehn_and_yahr_stage &lt;dbl&gt; |\n",
       "|---|---|---|---|---|---|---|---|---|---|---|---|---|---|---|---|---|---|---|---|---|---|\n",
       "| 1 | PD-PDAA503EF5 |  0 | 20 | V0_UPDRS_III_total  | 20 | V0_UPDRS_III_axial  | NA | NA | -0.0135112 | 0.0390564 | ⋯ | -0.020268 | -0.0157824 | 0.00145366 | 0.0117963 | -0.00368082 | -0.0332951 | 70 | Female | 13 | 2 |\n",
       "| 2 | PD-PDAA503EF5 | 12 | 31 | V12_UPDRS_III_total | 31 | V12_UPDRS_III_axial | NA | NA | -0.0135112 | 0.0390564 | ⋯ | -0.020268 | -0.0157824 | 0.00145366 | 0.0117963 | -0.00368082 | -0.0332951 | 70 | Female | 11 | 2 |\n",
       "| 3 | PD-PDAA503EF5 | 18 | 27 | V18_UPDRS_III_total | 27 | V18_UPDRS_III_axial | NA | NA | -0.0135112 | 0.0390564 | ⋯ | -0.020268 | -0.0157824 | 0.00145366 | 0.0117963 | -0.00368082 | -0.0332951 | 70 | Female | 13 | 2 |\n",
       "| 4 | PD-PDAA503EF5 | 24 | 20 | V24_UPDRS_III_total | 20 | V24_UPDRS_III_axial | NA | NA | -0.0135112 | 0.0390564 | ⋯ | -0.020268 | -0.0157824 | 0.00145366 | 0.0117963 | -0.00368082 | -0.0332951 | 70 | Female | 13 | 2 |\n",
       "| 5 | PD-PDAA503EF5 | 30 | 25 | V30_UPDRS_III_total | 25 | V30_UPDRS_III_axial | NA | NA | -0.0135112 | 0.0390564 | ⋯ | -0.020268 | -0.0157824 | 0.00145366 | 0.0117963 | -0.00368082 | -0.0332951 | 70 | Female |  9 | 2 |\n",
       "| 6 | PD-PDAA503EF5 | 36 | 34 | V36_UPDRS_III_total | 34 | V36_UPDRS_III_axial | NA | NA | -0.0135112 | 0.0390564 | ⋯ | -0.020268 | -0.0157824 | 0.00145366 | 0.0117963 | -0.00368082 | -0.0332951 | 70 | Female | 15 | 2 |\n",
       "\n"
      ],
      "text/plain": [
       "  ID            visit_month UPDRSIIItotal_imputed UPDRSIII_measure_total\n",
       "1 PD-PDAA503EF5  0          20                    V0_UPDRS_III_total    \n",
       "2 PD-PDAA503EF5 12          31                    V12_UPDRS_III_total   \n",
       "3 PD-PDAA503EF5 18          27                    V18_UPDRS_III_total   \n",
       "4 PD-PDAA503EF5 24          20                    V24_UPDRS_III_total   \n",
       "5 PD-PDAA503EF5 30          25                    V30_UPDRS_III_total   \n",
       "6 PD-PDAA503EF5 36          34                    V36_UPDRS_III_total   \n",
       "  UPDRSIIIaxial_imputed UPDRSIII_measure_axial UPDRSIIIlimb_imputed\n",
       "1 20                    V0_UPDRS_III_axial     NA                  \n",
       "2 31                    V12_UPDRS_III_axial    NA                  \n",
       "3 27                    V18_UPDRS_III_axial    NA                  \n",
       "4 20                    V24_UPDRS_III_axial    NA                  \n",
       "5 25                    V30_UPDRS_III_axial    NA                  \n",
       "6 34                    V36_UPDRS_III_axial    NA                  \n",
       "  UPDRSIII_measure_limb PC1        PC2       ⋯ PC5       PC6        PC7       \n",
       "1 NA                    -0.0135112 0.0390564 ⋯ -0.020268 -0.0157824 0.00145366\n",
       "2 NA                    -0.0135112 0.0390564 ⋯ -0.020268 -0.0157824 0.00145366\n",
       "3 NA                    -0.0135112 0.0390564 ⋯ -0.020268 -0.0157824 0.00145366\n",
       "4 NA                    -0.0135112 0.0390564 ⋯ -0.020268 -0.0157824 0.00145366\n",
       "5 NA                    -0.0135112 0.0390564 ⋯ -0.020268 -0.0157824 0.00145366\n",
       "6 NA                    -0.0135112 0.0390564 ⋯ -0.020268 -0.0157824 0.00145366\n",
       "  PC8       PC9         PC10       age_at_baseline sex   \n",
       "1 0.0117963 -0.00368082 -0.0332951 70              Female\n",
       "2 0.0117963 -0.00368082 -0.0332951 70              Female\n",
       "3 0.0117963 -0.00368082 -0.0332951 70              Female\n",
       "4 0.0117963 -0.00368082 -0.0332951 70              Female\n",
       "5 0.0117963 -0.00368082 -0.0332951 70              Female\n",
       "6 0.0117963 -0.00368082 -0.0332951 70              Female\n",
       "  mds_updrs_part_ii_summary_score code_upd2hy_hoehn_and_yahr_stage\n",
       "1 13                              2                               \n",
       "2 11                              2                               \n",
       "3 13                              2                               \n",
       "4 13                              2                               \n",
       "5  9                              2                               \n",
       "6 15                              2                               "
      ]
     },
     "metadata": {},
     "output_type": "display_data"
    },
    {
     "name": "stdout",
     "output_type": "stream",
     "text": [
      "'data.frame':\t2680 obs. of  22 variables:\n",
      " $ ID                              : chr  \"PD-PDAA503EF5\" \"PD-PDAA503EF5\" \"PD-PDAA503EF5\" \"PD-PDAA503EF5\" ...\n",
      " $ visit_month                     : num  0 12 18 24 30 36 42 48 6 0 ...\n",
      " $ UPDRSIIItotal_imputed           : num  20 31 27 20 25 34 30 38 19 15 ...\n",
      " $ UPDRSIII_measure_total          : chr  \"V0_UPDRS_III_total\" \"V12_UPDRS_III_total\" \"V18_UPDRS_III_total\" \"V24_UPDRS_III_total\" ...\n",
      " $ UPDRSIIIaxial_imputed           : num  20 31 27 20 25 34 30 38 19 15 ...\n",
      " $ UPDRSIII_measure_axial          : chr  \"V0_UPDRS_III_axial\" \"V12_UPDRS_III_axial\" \"V18_UPDRS_III_axial\" \"V24_UPDRS_III_axial\" ...\n",
      " $ UPDRSIIIlimb_imputed            : logi  NA NA NA NA NA NA ...\n",
      " $ UPDRSIII_measure_limb           : logi  NA NA NA NA NA NA ...\n",
      " $ PC1                             : num  -0.0135 -0.0135 -0.0135 -0.0135 -0.0135 ...\n",
      " $ PC2                             : num  0.0391 0.0391 0.0391 0.0391 0.0391 ...\n",
      " $ PC3                             : num  -0.058 -0.058 -0.058 -0.058 -0.058 ...\n",
      " $ PC4                             : num  0.0164 0.0164 0.0164 0.0164 0.0164 ...\n",
      " $ PC5                             : num  -0.0203 -0.0203 -0.0203 -0.0203 -0.0203 ...\n",
      " $ PC6                             : num  -0.0158 -0.0158 -0.0158 -0.0158 -0.0158 ...\n",
      " $ PC7                             : num  0.00145 0.00145 0.00145 0.00145 0.00145 ...\n",
      " $ PC8                             : num  0.0118 0.0118 0.0118 0.0118 0.0118 ...\n",
      " $ PC9                             : num  -0.00368 -0.00368 -0.00368 -0.00368 -0.00368 ...\n",
      " $ PC10                            : num  -0.0333 -0.0333 -0.0333 -0.0333 -0.0333 ...\n",
      " $ age_at_baseline                 : num  70 70 70 70 70 70 70 70 70 65 ...\n",
      " $ sex                             : Factor w/ 2 levels \"Male\",\"Female\": 2 2 2 2 2 2 2 2 2 1 ...\n",
      " $ mds_updrs_part_ii_summary_score : num  13 11 13 13 9 15 13 10 12 12 ...\n",
      " $ code_upd2hy_hoehn_and_yahr_stage: num  2 2 2 2 2 2 2 2 2 2 ...\n"
     ]
    },
    {
     "data": {
      "text/html": [
       "<style>\n",
       ".list-inline {list-style: none; margin:0; padding: 0}\n",
       ".list-inline>li {display: inline-block}\n",
       ".list-inline>li:not(:last-child)::after {content: \"\\00b7\"; padding: 0 .5ex}\n",
       "</style>\n",
       "<ol class=list-inline><li>2680</li><li>22</li></ol>\n"
      ],
      "text/latex": [
       "\\begin{enumerate*}\n",
       "\\item 2680\n",
       "\\item 22\n",
       "\\end{enumerate*}\n"
      ],
      "text/markdown": [
       "1. 2680\n",
       "2. 22\n",
       "\n",
       "\n"
      ],
      "text/plain": [
       "[1] 2680   22"
      ]
     },
     "metadata": {},
     "output_type": "display_data"
    }
   ],
   "source": [
    "head(clinical_PCs_df)\n",
    "str(clinical_PCs_df)\n",
    "dim(clinical_PCs_df)\n",
    "\n",
    "head(clinical_PCs_df_all)\n",
    "str(clinical_PCs_df_all)\n",
    "dim(clinical_PCs_df_all)"
   ]
  },
  {
   "cell_type": "code",
   "execution_count": 24,
   "metadata": {},
   "outputs": [
    {
     "data": {
      "text/html": [
       "<style>\n",
       ".dl-inline {width: auto; margin:0; padding: 0}\n",
       ".dl-inline>dt, .dl-inline>dd {float: none; width: auto; display: inline-block}\n",
       ".dl-inline>dt::after {content: \":\\0020\"; padding-right: .5ex}\n",
       ".dl-inline>dt:not(:first-of-type) {padding-left: .5ex}\n",
       "</style><dl class=dl-inline><dt>ID</dt><dd>0</dd><dt>visit_month</dt><dd>0</dd><dt>UPDRSIIItotal_imputed</dt><dd>0</dd><dt>UPDRSIII_measure_total</dt><dd>0</dd><dt>UPDRSIIIaxial_imputed</dt><dd>0</dd><dt>UPDRSIII_measure_axial</dt><dd>0</dd><dt>UPDRSIIIlimb_imputed</dt><dd>2466</dd><dt>UPDRSIII_measure_limb</dt><dd>2466</dd><dt>PC1</dt><dd>0</dd><dt>PC2</dt><dd>0</dd><dt>PC3</dt><dd>0</dd><dt>PC4</dt><dd>0</dd><dt>PC5</dt><dd>0</dd><dt>PC6</dt><dd>0</dd><dt>PC7</dt><dd>0</dd><dt>PC8</dt><dd>0</dd><dt>PC9</dt><dd>0</dd><dt>PC10</dt><dd>0</dd><dt>age_at_baseline</dt><dd>0</dd><dt>sex</dt><dd>0</dd><dt>mds_updrs_part_ii_summary_score</dt><dd>54</dd><dt>code_upd2hy_hoehn_and_yahr_stage</dt><dd>0</dd></dl>\n"
      ],
      "text/latex": [
       "\\begin{description*}\n",
       "\\item[ID] 0\n",
       "\\item[visit\\textbackslash{}\\_month] 0\n",
       "\\item[UPDRSIIItotal\\textbackslash{}\\_imputed] 0\n",
       "\\item[UPDRSIII\\textbackslash{}\\_measure\\textbackslash{}\\_total] 0\n",
       "\\item[UPDRSIIIaxial\\textbackslash{}\\_imputed] 0\n",
       "\\item[UPDRSIII\\textbackslash{}\\_measure\\textbackslash{}\\_axial] 0\n",
       "\\item[UPDRSIIIlimb\\textbackslash{}\\_imputed] 2466\n",
       "\\item[UPDRSIII\\textbackslash{}\\_measure\\textbackslash{}\\_limb] 2466\n",
       "\\item[PC1] 0\n",
       "\\item[PC2] 0\n",
       "\\item[PC3] 0\n",
       "\\item[PC4] 0\n",
       "\\item[PC5] 0\n",
       "\\item[PC6] 0\n",
       "\\item[PC7] 0\n",
       "\\item[PC8] 0\n",
       "\\item[PC9] 0\n",
       "\\item[PC10] 0\n",
       "\\item[age\\textbackslash{}\\_at\\textbackslash{}\\_baseline] 0\n",
       "\\item[sex] 0\n",
       "\\item[mds\\textbackslash{}\\_updrs\\textbackslash{}\\_part\\textbackslash{}\\_ii\\textbackslash{}\\_summary\\textbackslash{}\\_score] 54\n",
       "\\item[code\\textbackslash{}\\_upd2hy\\textbackslash{}\\_hoehn\\textbackslash{}\\_and\\textbackslash{}\\_yahr\\textbackslash{}\\_stage] 0\n",
       "\\end{description*}\n"
      ],
      "text/markdown": [
       "ID\n",
       ":   0visit_month\n",
       ":   0UPDRSIIItotal_imputed\n",
       ":   0UPDRSIII_measure_total\n",
       ":   0UPDRSIIIaxial_imputed\n",
       ":   0UPDRSIII_measure_axial\n",
       ":   0UPDRSIIIlimb_imputed\n",
       ":   2466UPDRSIII_measure_limb\n",
       ":   2466PC1\n",
       ":   0PC2\n",
       ":   0PC3\n",
       ":   0PC4\n",
       ":   0PC5\n",
       ":   0PC6\n",
       ":   0PC7\n",
       ":   0PC8\n",
       ":   0PC9\n",
       ":   0PC10\n",
       ":   0age_at_baseline\n",
       ":   0sex\n",
       ":   0mds_updrs_part_ii_summary_score\n",
       ":   54code_upd2hy_hoehn_and_yahr_stage\n",
       ":   0\n",
       "\n"
      ],
      "text/plain": [
       "                              ID                      visit_month \n",
       "                               0                                0 \n",
       "           UPDRSIIItotal_imputed           UPDRSIII_measure_total \n",
       "                               0                                0 \n",
       "           UPDRSIIIaxial_imputed           UPDRSIII_measure_axial \n",
       "                               0                                0 \n",
       "            UPDRSIIIlimb_imputed            UPDRSIII_measure_limb \n",
       "                            2466                             2466 \n",
       "                             PC1                              PC2 \n",
       "                               0                                0 \n",
       "                             PC3                              PC4 \n",
       "                               0                                0 \n",
       "                             PC5                              PC6 \n",
       "                               0                                0 \n",
       "                             PC7                              PC8 \n",
       "                               0                                0 \n",
       "                             PC9                             PC10 \n",
       "                               0                                0 \n",
       "                 age_at_baseline                              sex \n",
       "                               0                                0 \n",
       " mds_updrs_part_ii_summary_score code_upd2hy_hoehn_and_yahr_stage \n",
       "                              54                                0 "
      ]
     },
     "metadata": {},
     "output_type": "display_data"
    }
   ],
   "source": [
    "# Checking there is no NAs, specially on the the outcome variables\n",
    "sapply(X = clinical_PCs_df, FUN = function(x) sum(is.na(x)))"
   ]
  },
  {
   "cell_type": "markdown",
   "metadata": {},
   "source": [
    "# Writing up the the clinical_PCs file"
   ]
  },
  {
   "cell_type": "code",
   "execution_count": 26,
   "metadata": {},
   "outputs": [
    {
     "name": "stdout",
     "output_type": "stream",
     "text": [
      "'data.frame':\t2466 obs. of  22 variables:\n",
      " $ ID                              : chr  \"PD-PDAA503EF5\" \"PD-PDAA503EF5\" \"PD-PDAA503EF5\" \"PD-PDAA503EF5\" ...\n",
      " $ visit_month                     : num  0 12 18 24 30 36 6 0 0 12 ...\n",
      " $ UPDRSIIItotal_imputed           : num  20 31 27 20 25 34 19 15 5 5 ...\n",
      " $ UPDRSIII_measure_total          : chr  \"V0_UPDRS_III_total\" \"V12_UPDRS_III_total\" \"V18_UPDRS_III_total\" \"V24_UPDRS_III_total\" ...\n",
      " $ UPDRSIIIaxial_imputed           : num  20 31 27 20 25 34 19 15 5 5 ...\n",
      " $ UPDRSIII_measure_axial          : chr  \"V0_UPDRS_III_axial\" \"V12_UPDRS_III_axial\" \"V18_UPDRS_III_axial\" \"V24_UPDRS_III_axial\" ...\n",
      " $ UPDRSIIIlimb_imputed            : logi  NA NA NA NA NA NA ...\n",
      " $ UPDRSIII_measure_limb           : logi  NA NA NA NA NA NA ...\n",
      " $ PC1                             : num  -0.0135 -0.0135 -0.0135 -0.0135 -0.0135 ...\n",
      " $ PC2                             : num  0.0391 0.0391 0.0391 0.0391 0.0391 ...\n",
      " $ PC3                             : num  -0.058 -0.058 -0.058 -0.058 -0.058 ...\n",
      " $ PC4                             : num  0.0164 0.0164 0.0164 0.0164 0.0164 ...\n",
      " $ PC5                             : num  -0.0203 -0.0203 -0.0203 -0.0203 -0.0203 ...\n",
      " $ PC6                             : num  -0.0158 -0.0158 -0.0158 -0.0158 -0.0158 ...\n",
      " $ PC7                             : num  0.00145 0.00145 0.00145 0.00145 0.00145 ...\n",
      " $ PC8                             : num  0.0118 0.0118 0.0118 0.0118 0.0118 ...\n",
      " $ PC9                             : num  -0.00368 -0.00368 -0.00368 -0.00368 -0.00368 ...\n",
      " $ PC10                            : num  -0.0333 -0.0333 -0.0333 -0.0333 -0.0333 ...\n",
      " $ age_at_baseline                 : num  70 70 70 70 70 70 70 65 57 57 ...\n",
      " $ sex                             : Factor w/ 2 levels \"Male\",\"Female\": 2 2 2 2 2 2 2 1 1 1 ...\n",
      " $ mds_updrs_part_ii_summary_score : num  13 11 13 13 9 15 12 12 4 8 ...\n",
      " $ code_upd2hy_hoehn_and_yahr_stage: num  2 2 2 2 2 2 2 2 1 2 ...\n"
     ]
    }
   ],
   "source": [
    "saveRDS(clinical_PCs_df, \"/home/jupyter/working_dir/PDBP_final.rds\")\n",
    "str(readRDS(\"/home/jupyter/working_dir/PDBP_final.rds\"))\n",
    "\n",
    "saveRDS(clinical_PCs_df_all, \"/home/jupyter/working_dir/PDBP_final_allVisits.rds\")"
   ]
  },
  {
   "cell_type": "code",
   "execution_count": 31,
   "metadata": {},
   "outputs": [
    {
     "name": "stdout",
     "output_type": "stream",
     "text": [
      "[1] \"Executing:  gsutil -mu terra-ed19e231 cp -r /home/jupyter/working_dir/PDBP_final.rds gs://fc-cd759889-2702-4f72-a832-0be756073417/files\"\n"
     ]
    },
    {
     "data": {
      "text/html": [],
      "text/latex": [],
      "text/markdown": [],
      "text/plain": [
       "character(0)"
      ]
     },
     "metadata": {},
     "output_type": "display_data"
    },
    {
     "name": "stdout",
     "output_type": "stream",
     "text": [
      "[1] \"Executing:  gsutil -mu terra-ed19e231 cp -r /home/jupyter/working_dir/PDBP_final_allVisits.rds gs://fc-cd759889-2702-4f72-a832-0be756073417/files\"\n"
     ]
    },
    {
     "data": {
      "text/html": [],
      "text/latex": [],
      "text/markdown": [],
      "text/plain": [
       "character(0)"
      ]
     },
     "metadata": {},
     "output_type": "display_data"
    }
   ],
   "source": [
    "#Copying data into the google bucket\n",
    "shell_do(str_glue('gsutil -mu {BILLING_PROJECT_ID} cp -r /home/jupyter/working_dir/PDBP_final.rds {PATH_MYWORKSPACE}/files'))\n",
    "shell_do(str_glue('gsutil -mu {BILLING_PROJECT_ID} cp -r /home/jupyter/working_dir/PDBP_final_allVisits.rds {PATH_MYWORKSPACE}/files'))"
   ]
  },
  {
   "cell_type": "code",
   "execution_count": null,
   "metadata": {},
   "outputs": [],
   "source": []
  }
 ],
 "metadata": {
  "kernelspec": {
   "display_name": "R",
   "language": "R",
   "name": "ir"
  },
  "language_info": {
   "codemirror_mode": "r",
   "file_extension": ".r",
   "mimetype": "text/x-r-source",
   "name": "R",
   "pygments_lexer": "r",
   "version": "4.1.1"
  },
  "toc": {
   "base_numbering": 1,
   "nav_menu": {},
   "number_sections": true,
   "sideBar": true,
   "skip_h1_title": false,
   "title_cell": "Table of Contents",
   "title_sidebar": "Contents",
   "toc_cell": false,
   "toc_position": {},
   "toc_section_display": true,
   "toc_window_display": false
  }
 },
 "nbformat": 4,
 "nbformat_minor": 2
}
